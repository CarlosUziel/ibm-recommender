{
 "cells": [
  {
   "attachments": {},
   "cell_type": "markdown",
   "metadata": {},
   "source": [
    "# Recommendations with IBM\n",
    "\n",
    "In this notebook, you will be putting your recommendation skills to use on real data from the IBM Watson Studio platform.\n",
    "\n",
    "You may either submit your notebook through the workspace here, or you may work from your local machine and submit through the next page. Either way assure that your code passes the project [RUBRIC](https://review.udacity.com/#!/rubrics/3325/view). **Please save regularly.**\n",
    "\n",
    "By following the table of contents, you will build out a number of different methods for making recommendations that can be used for different situations.\n",
    "\n",
    "## Table of Contents\n",
    "\n",
    "I. [Exploratory Data Analysis](#Exploratory-Data-Analysis)<br>\n",
    "II. [Rank Based Recommendations](#Rank)<br>\n",
    "III. [User-User Based Collaborative Filtering](#User-User)<br>\n",
    "IV. [Content Based Recommendations (EXTRA - NOT REQUIRED)](#Content-Recs)<br>\n",
    "V. [Matrix Factorization](#Matrix-Fact)<br>\n",
    "VI. [Extras & Concluding](#conclusions)\n",
    "\n",
    "At the end of the notebook, you will find directions for how to submit your work. Let's get started by importing the necessary libraries and reading in the data.\n"
   ]
  },
  {
   "cell_type": "code",
   "execution_count": null,
   "metadata": {},
   "outputs": [],
   "source": [
    "%load_ext autoreload\n",
    "%autoreload 2"
   ]
  },
  {
   "cell_type": "code",
   "execution_count": null,
   "metadata": {
    "collapsed": true
   },
   "outputs": [],
   "source": [
    "import sys\n",
    "import re\n",
    "\n",
    "from copy import deepcopy\n",
    "import pandas as pd\n",
    "import numpy as np\n",
    "import matplotlib.pyplot as plt\n",
    "import pickle\n",
    "from typing import Iterable, Callable, Tuple\n",
    "from pathlib import Path\n",
    "from IPython import display as ICD\n",
    "from nltk.corpus import stopwords\n",
    "from nltk.stem.wordnet import WordNetLemmatizer\n",
    "from nltk.tokenize import word_tokenize\n",
    "from sklearn.metrics.pairwise import cosine_similarity\n",
    "from sklearn.feature_extraction.text import TfidfVectorizer\n",
    "from sklearn.metrics.pairwise import cosine_similarity\n",
    "\n",
    "%matplotlib inline"
   ]
  },
  {
   "cell_type": "code",
   "execution_count": null,
   "metadata": {},
   "outputs": [],
   "source": [
    "src_path: str = \"../src\"\n",
    "sys.path.append(src_path)"
   ]
  },
  {
   "cell_type": "code",
   "execution_count": null,
   "metadata": {},
   "outputs": [],
   "source": [
    "import tests.project_tests as t"
   ]
  },
  {
   "cell_type": "code",
   "execution_count": null,
   "metadata": {},
   "outputs": [],
   "source": [
    "data_root: Path = Path(\"../data\")"
   ]
  },
  {
   "cell_type": "code",
   "execution_count": null,
   "metadata": {},
   "outputs": [],
   "source": [
    "df = pd.read_csv(\n",
    "    data_root.joinpath(\"user_item_interactions.csv\"),\n",
    "    dtype={\"article_id\": int},\n",
    ")\n",
    "df_content = pd.read_csv(\n",
    "    data_root.joinpath(\"articles_community.csv\"),\n",
    "    dtype={\"article_id\": int},\n",
    ")\n",
    "\n",
    "print(f\"User-item interactions dataset {df.shape}:\")\n",
    "ICD.display(df.head())\n",
    "\n",
    "print(f\"Articles community dataset {df_content.shape}:\")\n",
    "ICD.display(df_content.head())"
   ]
  },
  {
   "attachments": {},
   "cell_type": "markdown",
   "metadata": {},
   "source": [
    "### <a class=\"anchor\" id=\"Exploratory-Data-Analysis\">Part I : Exploratory Data Analysis</a>\n",
    "\n",
    "Use the dictionary and cells below to provide some insight into the descriptive statistics of the data.\n",
    "\n",
    "`1.` What is the distribution of how many articles a user interacts with in the dataset? Provide a visual and descriptive statistics to assist with giving a look at the number of times each user interacts with an article.\n"
   ]
  },
  {
   "cell_type": "code",
   "execution_count": null,
   "metadata": {
    "collapsed": true
   },
   "outputs": [],
   "source": [
    "user_article_counts = df.groupby(\"email\")[\"article_id\"].count().sort_values()\n",
    "\n",
    "np.log(user_article_counts).plot(kind=\"hist\")\n",
    "plt.title(\"Log2 distribution of the number of articles a user interacts with\")\n",
    "plt.xlabel(\"Log2(Number of articles)\")"
   ]
  },
  {
   "cell_type": "code",
   "execution_count": null,
   "metadata": {
    "collapsed": true
   },
   "outputs": [],
   "source": [
    "median_val = user_article_counts.median()\n",
    "print(f\"50% of individuals interact with {median_val:.2f} number of articles or fewer\")\n",
    "max_views_by_user = user_article_counts.max()\n",
    "print(\n",
    "    \"The maximum number of user-article interactions by any 1 user is\"\n",
    "    f\" {max_views_by_user:.2f}.\"\n",
    ")"
   ]
  },
  {
   "attachments": {},
   "cell_type": "markdown",
   "metadata": {},
   "source": [
    "`2.` Explore and remove duplicate articles from the **df_content** dataframe.\n"
   ]
  },
  {
   "cell_type": "code",
   "execution_count": null,
   "metadata": {
    "collapsed": true
   },
   "outputs": [],
   "source": [
    "# Find and explore duplicate articles\n",
    "df_content[df_content.duplicated(subset=[\"article_id\"])]"
   ]
  },
  {
   "cell_type": "code",
   "execution_count": null,
   "metadata": {},
   "outputs": [],
   "source": [
    "df.isna().any()"
   ]
  },
  {
   "cell_type": "code",
   "execution_count": null,
   "metadata": {
    "collapsed": true
   },
   "outputs": [],
   "source": [
    "# Remove any rows that have the same article_id - only keep the first\n",
    "df_content = df_content.drop_duplicates(subset=[\"article_id\"])"
   ]
  },
  {
   "attachments": {},
   "cell_type": "markdown",
   "metadata": {},
   "source": [
    "`3.` Use the cells below to find:\n",
    "\n",
    "**a.** The number of unique articles that have an interaction with a user.  \n",
    "**b.** The number of unique articles in the dataset (whether they have any interactions or not).<br>\n",
    "**c.** The number of unique users in the dataset. (excluding null values) <br>\n",
    "**d.** The number of user-article interactions in the dataset.\n"
   ]
  },
  {
   "cell_type": "code",
   "execution_count": null,
   "metadata": {
    "collapsed": true
   },
   "outputs": [],
   "source": [
    "unique_articles = df[\"article_id\"].nunique()\n",
    "print(\n",
    "    f\"Number of unique articles that have at least one interaction: {unique_articles}\"\n",
    ")\n",
    "\n",
    "total_articles = df_content[\n",
    "    \"article_id\"\n",
    "].nunique()  # The number of unique articles on the IBM platform\n",
    "print(f\"Number of unique articles on the IBM platform: {total_articles}\")\n",
    "\n",
    "unique_users = df[\"email\"].nunique()\n",
    "print(f\"Number of unique users: {unique_users}\")\n",
    "\n",
    "user_article_interactions = len(df)\n",
    "print(f\"Number of user-article interactions: {user_article_interactions}\")"
   ]
  },
  {
   "attachments": {},
   "cell_type": "markdown",
   "metadata": {},
   "source": [
    "`4.` Use the cells below to find the most viewed **article_id**, as well as how often it was viewed. After talking to the company leaders, the `email_mapper` function was deemed a reasonable way to map users to ids. There were a small number of null values, and it was found that all of these null values likely belonged to a single user (which is how they are stored using the function below).\n"
   ]
  },
  {
   "cell_type": "code",
   "execution_count": null,
   "metadata": {
    "collapsed": true
   },
   "outputs": [],
   "source": [
    "views_per_article = df.groupby(\"article_id\")[\"email\"].count().sort_values()"
   ]
  },
  {
   "cell_type": "code",
   "execution_count": null,
   "metadata": {
    "collapsed": true
   },
   "outputs": [],
   "source": [
    "most_viewed_article_id = str(views_per_article.index[-1])\n",
    "print(f\"The most viewed article in the dataset: {most_viewed_article_id}\")\n",
    "\n",
    "max_views = views_per_article.iloc[-1]\n",
    "print(f\"The most viewed article in the dataset was viewed {max_views} times.\")"
   ]
  },
  {
   "cell_type": "code",
   "execution_count": null,
   "metadata": {
    "collapsed": true
   },
   "outputs": [],
   "source": [
    "def email_mapper(df: pd.DataFrame, email_col: str = \"email\") -> Iterable[int]:\n",
    "    \"\"\"Map email column to unique user IDs.\n",
    "\n",
    "    Args:\n",
    "        df: Dataframe whose email column to map.\n",
    "        email_col: Email column to map.\n",
    "\n",
    "    Returns:\n",
    "        Decoded list of user IDs.\n",
    "    \"\"\"\n",
    "    user_id_map = {\n",
    "        v: k\n",
    "        for k, v in dict(\n",
    "            enumerate(df[email_col].drop_duplicates(keep=\"first\").tolist(), start=1)\n",
    "        ).items()\n",
    "    }\n",
    "    return df[email_col].map(user_id_map)"
   ]
  },
  {
   "cell_type": "code",
   "execution_count": null,
   "metadata": {},
   "outputs": [],
   "source": [
    "df[\"user_id\"] = email_mapper(df, \"email\")\n",
    "df = df.drop(columns=[\"email\"])\n",
    "\n",
    "# show header\n",
    "ICD.display(df.head())"
   ]
  },
  {
   "cell_type": "code",
   "execution_count": null,
   "metadata": {
    "collapsed": true
   },
   "outputs": [],
   "source": [
    "sol_1_dict = {\n",
    "    \"`50% of individuals have _____ or fewer interactions.`\": median_val,\n",
    "    \"`The total number of user-article interactions in the dataset is ______.`\": user_article_interactions,\n",
    "    \"`The maximum number of user-article interactions by any 1 user is ______.`\": max_views_by_user,\n",
    "    \"`The most viewed article in the dataset was viewed _____ times.`\": max_views,\n",
    "    \"`The article_id of the most viewed article is ______.`\": most_viewed_article_id,\n",
    "    \"`The number of unique articles that have at least 1 rating ______.`\": unique_articles,\n",
    "    \"`The number of unique users in the dataset is ______`\": unique_users,\n",
    "    \"`The number of unique articles on the IBM platform`\": total_articles,\n",
    "}\n",
    "\n",
    "# Test your dictionary against the solution\n",
    "t.sol_1_test(sol_1_dict)"
   ]
  },
  {
   "attachments": {},
   "cell_type": "markdown",
   "metadata": {},
   "source": [
    "### <a class=\"anchor\" id=\"Rank\">Part II: Rank-Based Recommendations</a>\n",
    "\n",
    "Unlike in the earlier lessons, we don't actually have ratings for whether a user liked an article or not. We only know that a user has interacted with an article. In these cases, the popularity of an article can really only be based on how often an article was interacted with.\n",
    "\n",
    "`1.` Fill in the function below to return the **n** top articles ordered with most interactions as the top. Test your function using the tests below.\n"
   ]
  },
  {
   "cell_type": "code",
   "execution_count": null,
   "metadata": {
    "collapsed": true
   },
   "outputs": [],
   "source": [
    "def get_top_articles(df: pd.DataFrame, n: int = 10) -> Iterable[str]:\n",
    "    \"\"\"\n",
    "    Return top articles titles by popularity (how often it has been interacted with).\n",
    "\n",
    "    Args:\n",
    "        df: Dataframe containing article-user interactions.\n",
    "        n: Number of top articles to return.\n",
    "\n",
    "    Returns:\n",
    "        A list of the top 'n' article titles\n",
    "    \"\"\"\n",
    "    # Your code here\n",
    "    return df.groupby(\"title\").count().iloc[:, 0].sort_values().iloc[-n:].index.tolist()\n",
    "\n",
    "\n",
    "def get_top_article_ids(df: pd.DataFrame, n: int = 10) -> Iterable[str]:\n",
    "    \"\"\"\n",
    "    Return top articles IDs by popularity (how often it has been interacted with).\n",
    "\n",
    "    Args:\n",
    "        df: Dataframe containing article-user interactions.\n",
    "        n: Number of top articles to return.\n",
    "\n",
    "    Returns:\n",
    "        A list of the top 'n' article IDs\n",
    "    \"\"\"\n",
    "    return (\n",
    "        df.groupby(\"article_id\")\n",
    "        .count()\n",
    "        .iloc[:, 0]\n",
    "        .sort_values()\n",
    "        .iloc[-n:]\n",
    "        .index.tolist()\n",
    "    )"
   ]
  },
  {
   "cell_type": "code",
   "execution_count": null,
   "metadata": {
    "collapsed": true
   },
   "outputs": [],
   "source": [
    "print(get_top_articles(df, 10))\n",
    "print(get_top_article_ids(df, 10))"
   ]
  },
  {
   "cell_type": "code",
   "execution_count": null,
   "metadata": {
    "collapsed": true
   },
   "outputs": [],
   "source": [
    "# Test each of your three lists from above\n",
    "t.sol_2_test(get_top_articles)"
   ]
  },
  {
   "attachments": {},
   "cell_type": "markdown",
   "metadata": {},
   "source": [
    "### <a class=\"anchor\" id=\"User-User\">Part III: User-User Based Collaborative Filtering</a>\n",
    "\n",
    "`1.` Use the function below to reformat the **df** dataframe to be shaped with users as the rows and articles as the columns.\n",
    "\n",
    "- Each **user** should only appear in each **row** once.\n",
    "\n",
    "- Each **article** should only show up in one **column**.\n",
    "\n",
    "- **If a user has interacted with an article, then place a 1 where the user-row meets for that article-column**. It does not matter how many times a user has interacted with the article, all entries where a user has interacted with an article should be a 1.\n",
    "\n",
    "- **If a user has not interacted with an item, then place a zero where the user-row meets for that article-column**.\n",
    "\n",
    "Use the tests to make sure the basic structure of your matrix matches what is expected by the solution.\n"
   ]
  },
  {
   "cell_type": "code",
   "execution_count": null,
   "metadata": {
    "collapsed": true
   },
   "outputs": [],
   "source": [
    "def create_user_item_matrix(df: pd.DataFrame) -> pd.DataFrame:\n",
    "    \"\"\"\n",
    "    Return a matrix with user ids as rows and article ids on the columns with\n",
    "        1 values where a user interacted with an article and a 0 otherwise\n",
    "\n",
    "    Args:\n",
    "        df: pandas dataframe with article_id, title, user_id columns\n",
    "\n",
    "    Returns:\n",
    "        A user-item matrix\n",
    "\n",
    "    \"\"\"\n",
    "    return pd.crosstab(df[\"user_id\"], df[\"article_id\"]).astype(bool).astype(int)"
   ]
  },
  {
   "cell_type": "code",
   "execution_count": null,
   "metadata": {},
   "outputs": [],
   "source": [
    "user_item = create_user_item_matrix(df)"
   ]
  },
  {
   "cell_type": "code",
   "execution_count": null,
   "metadata": {},
   "outputs": [],
   "source": [
    "user_item[(user_item.sum(axis=1) == 36)]"
   ]
  },
  {
   "cell_type": "code",
   "execution_count": null,
   "metadata": {
    "collapsed": true
   },
   "outputs": [],
   "source": [
    "## Tests: You should just need to run this cell.  Don't change the code.\n",
    "assert (\n",
    "    user_item.shape[0] == 5149\n",
    "), \"Oops!  The number of users in the user-article matrix doesn't look right.\"\n",
    "assert (\n",
    "    user_item.shape[1] == 714\n",
    "), \"Oops!  The number of articles in the user-article matrix doesn't look right.\"\n",
    "assert (\n",
    "    user_item.sum(axis=1)[1] == 36\n",
    "), \"Oops!  The number of articles seen by user 1 doesn't look right.\"\n",
    "print(\"You have passed our quick tests!  Please proceed!\")"
   ]
  },
  {
   "attachments": {},
   "cell_type": "markdown",
   "metadata": {},
   "source": [
    "`2.` Complete the function below which should take a user_id and provide an ordered list of the most similar users to that user (from most similar to least similar). The returned result should not contain the provided user_id, as we know that each user is similar to him/herself. Because the results for each user here are binary, it (perhaps) makes sense to compute similarity as the dot product of two users.\n",
    "\n",
    "Use the tests to test your function.\n"
   ]
  },
  {
   "cell_type": "code",
   "execution_count": null,
   "metadata": {
    "collapsed": true
   },
   "outputs": [],
   "source": [
    "def find_similar_users(user_id: int, user_item: pd.DataFrame) -> Iterable[int]:\n",
    "    \"\"\"Find the most similar users to a given one in the user-item matrix. Computes the\n",
    "        similarity of every pair of users based on the dot product.\n",
    "\n",
    "    Args:\n",
    "        user_id: User ID to compare to the rest.\n",
    "        user_item: User-item dataframe.\n",
    "\n",
    "    Returns:\n",
    "        An ordered list where the closest users (largest dot product users) are listed\n",
    "            first.\n",
    "    \"\"\"\n",
    "    return (\n",
    "        user_item.loc[user_id]\n",
    "        .dot(user_item.transpose())\n",
    "        .sort_values(ascending=False)\n",
    "        .drop(user_id, axis=\"index\")\n",
    "        .index.tolist()\n",
    "    )"
   ]
  },
  {
   "cell_type": "code",
   "execution_count": null,
   "metadata": {
    "collapsed": true
   },
   "outputs": [],
   "source": [
    "# Do a spot check of your function\n",
    "print(\n",
    "    \"The 10 most similar users to user 1 are: {}\".format(\n",
    "        find_similar_users(1, user_item)[:10]\n",
    "    )\n",
    ")\n",
    "print(\n",
    "    \"The 5 most similar users to user 3933 are: {}\".format(\n",
    "        find_similar_users(3933, user_item)[:5]\n",
    "    )\n",
    ")\n",
    "print(\n",
    "    \"The 3 most similar users to user 46 are: {}\".format(\n",
    "        find_similar_users(46, user_item)[:3]\n",
    "    )\n",
    ")"
   ]
  },
  {
   "attachments": {},
   "cell_type": "markdown",
   "metadata": {},
   "source": [
    "`3.` Now that you have a function that provides the most similar users to each user, you will want to use these users to find articles you can recommend. Complete the functions below to return the articles you would recommend to each user.\n"
   ]
  },
  {
   "cell_type": "code",
   "execution_count": null,
   "metadata": {
    "collapsed": true
   },
   "outputs": [],
   "source": [
    "def get_article_names(article_ids: Iterable[int], df: pd.DataFrame) -> Iterable[str]:\n",
    "    \"\"\"Given a list of article IDs, get their names (titles).\n",
    "\n",
    "    Args:\n",
    "        article_ids: A list of article IDs.\n",
    "        df: pandas dataframe with article_id, title, user_id columns\n",
    "\n",
    "    Returns:\n",
    "        A list of article names associated with the list of article ids (this is\n",
    "            identified by the title column)\n",
    "    \"\"\"\n",
    "    return (\n",
    "        df.set_index(\"article_id\").loc[article_ids, \"title\"].drop_duplicates().tolist()\n",
    "    )\n",
    "\n",
    "\n",
    "def get_user_articles(\n",
    "    user_id: int, user_item: pd.DataFrame, df: pd.DataFrame\n",
    ") -> Tuple[Iterable[int], Iterable[str]]:\n",
    "    \"\"\"Provides a list of the article_ids and article titles that have been seen by a\n",
    "        user.\n",
    "\n",
    "    Args:\n",
    "        user_id: A user ID.\n",
    "        user_item: Matrix of users by articles: 1's when a user has interacted with an\n",
    "            article, 0 otherwise\n",
    "        df: pandas dataframe with article_id, title, user_id columns\n",
    "\n",
    "    Returns:\n",
    "        - A list of the article ids seen by the user.\n",
    "        - A list of article names associated with the list of article ids.\n",
    "    \"\"\"\n",
    "    if user_id not in user_item.index:\n",
    "        return [], []\n",
    "\n",
    "    article_ids = user_item.columns[user_item.loc[user_id] == 1].tolist()\n",
    "    return article_ids, get_article_names(article_ids, df)\n",
    "\n",
    "\n",
    "def user_user_recs(\n",
    "    user_id: int, user_item: pd.DataFrame, df: pd.DataFrame, m: int = 10\n",
    ") -> Iterable[str]:\n",
    "    \"\"\"Loops through the users based on closeness to the input user_id\n",
    "        For each user - finds articles the user hasn't seen before and provides them as\n",
    "        recs. Does this until m recommendations are found.\n",
    "\n",
    "    Notes:\n",
    "        Users who are the same closeness are chosen arbitrarily as the 'next' user.\n",
    "\n",
    "        For the user where the number of recommended articles starts below m\n",
    "        and ends exceeding m, the last items are chosen arbitrarily.\n",
    "\n",
    "    Args:\n",
    "        user_id: A user ID.\n",
    "        user_item: Matrix of users by articles: 1's when a user has interacted with an\n",
    "            article, 0 otherwise\n",
    "        df: pandas dataframe with article_id, title, user_id columns\n",
    "        m: the number of recommendations you want for the user\n",
    "\n",
    "    OUTPUT:\n",
    "        A list of recommendations for the user.\n",
    "    \"\"\"\n",
    "    # 1. Get closest users\n",
    "    closest_users = find_similar_users(user_id, user_item)\n",
    "\n",
    "    # 2. Loop through closest users to find up to M recommendations\n",
    "    recs = []\n",
    "    user_articles_ids = get_user_articles(user_id, user_item, df)[0]\n",
    "    for similar_user in closest_users:\n",
    "        distinct_articles = [\n",
    "            article_id\n",
    "            for article_id in get_user_articles(similar_user, user_item, df)[0]\n",
    "            if article_id not in user_articles_ids + recs\n",
    "        ]\n",
    "        recs.extend(distinct_articles[: min(len(distinct_articles), m - len(recs))])\n",
    "\n",
    "        if len(recs) >= m:\n",
    "            return recs"
   ]
  },
  {
   "cell_type": "code",
   "execution_count": null,
   "metadata": {
    "collapsed": true
   },
   "outputs": [],
   "source": [
    "# Return 10 recommendations for user 1\n",
    "get_article_names(user_user_recs(1, user_item, df, 10), df)"
   ]
  },
  {
   "cell_type": "code",
   "execution_count": null,
   "metadata": {
    "collapsed": true
   },
   "outputs": [],
   "source": [
    "# Test your functions here - No need to change this code - just run this cell\n",
    "assert set(get_article_names([1024, 1176, 1305, 1314, 1422, 1427], df)) == set(\n",
    "    [\n",
    "        \"using deep learning to reconstruct high-resolution audio\",\n",
    "        \"build a python app on the streaming analytics service\",\n",
    "        \"gosales transactions for naive bayes model\",\n",
    "        \"healthcare python streaming application demo\",\n",
    "        \"use r dataframes & ibm watson natural language understanding\",\n",
    "        \"use xgboost, scikit-learn & ibm watson machine learning apis\",\n",
    "    ]\n",
    "), \"Oops! Your the get_article_names function doesn't work quite how we expect.\"\n",
    "assert set(get_article_names([1320, 232, 844], df)) == set(\n",
    "    [\n",
    "        \"housing (2015): united states demographic measures\",\n",
    "        \"self-service data preparation with ibm data refinery\",\n",
    "        \"use the cloudant-spark connector in python notebook\",\n",
    "    ]\n",
    "), \"Oops! Your the get_article_names function doesn't work quite how we expect.\"\n",
    "assert set(get_user_articles(20, user_item, df)[0]) == set([1320, 232, 844])\n",
    "assert set(get_user_articles(20, user_item, df)[1]) == set(\n",
    "    [\n",
    "        \"housing (2015): united states demographic measures\",\n",
    "        \"self-service data preparation with ibm data refinery\",\n",
    "        \"use the cloudant-spark connector in python notebook\",\n",
    "    ]\n",
    ")\n",
    "assert set(get_user_articles(2, user_item, df)[0]) == set(\n",
    "    [1024, 1176, 1305, 1314, 1422, 1427]\n",
    ")\n",
    "assert set(get_user_articles(2, user_item, df)[1]) == set(\n",
    "    [\n",
    "        \"using deep learning to reconstruct high-resolution audio\",\n",
    "        \"build a python app on the streaming analytics service\",\n",
    "        \"gosales transactions for naive bayes model\",\n",
    "        \"healthcare python streaming application demo\",\n",
    "        \"use r dataframes & ibm watson natural language understanding\",\n",
    "        \"use xgboost, scikit-learn & ibm watson machine learning apis\",\n",
    "    ]\n",
    ")\n",
    "print(\"If this is all you see, you passed all of our tests!  Nice job!\")"
   ]
  },
  {
   "attachments": {},
   "cell_type": "markdown",
   "metadata": {},
   "source": [
    "`4.` Now we are going to improve the consistency of the **user_user_recs** function from above.\n",
    "\n",
    "- Instead of arbitrarily choosing when we obtain users who are all the same closeness to a given user - choose the users that have the most total article interactions before choosing those with fewer article interactions.\n",
    "\n",
    "- Instead of arbitrarily choosing articles from the user where the number of recommended articles starts below m and ends exceeding m, choose articles with the articles with the most total interactions before choosing those with fewer total interactions. This ranking should be what would be obtained from the **top_articles** function you wrote earlier.\n"
   ]
  },
  {
   "cell_type": "code",
   "execution_count": null,
   "metadata": {
    "collapsed": true
   },
   "outputs": [],
   "source": [
    "from typing import Tuple\n",
    "\n",
    "\n",
    "def get_top_sorted_users(\n",
    "    user_id: int, df: pd.DataFrame, user_item: pd.DataFrame\n",
    ") -> pd.DataFrame:\n",
    "    \"\"\"Generate neighbour dataframe with the following information:\n",
    "        - neighbor_id - is a neighbor user_id\n",
    "        - similarity - measure of the similarity of each user to the provided user_id.\n",
    "        - num_interactions - the number of articles viewed by the user.\n",
    "\n",
    "    Sort the neighbors_df by the similarity and then by number of interactions where\n",
    "        highest of each is higher in the dataframe.\n",
    "\n",
    "    Args:\n",
    "        user_id: User ID.\n",
    "        df: pandas dataframe with article_id, title, user_id columns.\n",
    "        user_item: Matrix of users by articles: 1's when a user has interacted with an\n",
    "            article, 0 otherwise.\n",
    "\n",
    "    Returns:\n",
    "        Neighbours dataframe.\n",
    "    \"\"\"\n",
    "    # 1. Get similarity with other users (based on dot product)\n",
    "    neighbors_df = (\n",
    "        user_item.loc[user_id]\n",
    "        .dot(user_item.transpose())\n",
    "        .sort_values(ascending=False)\n",
    "        .drop(user_id, axis=\"index\")\n",
    "        .rename(\"similarity\")\n",
    "        .rename_axis(\"neighbor_id\")\n",
    "        .to_frame()\n",
    "    )\n",
    "\n",
    "    # 2. Add number of interactions per neighbor\n",
    "    neighbors_df[\"num_interactions\"] = (\n",
    "        df.groupby(\"user_id\").count().iloc[:, 0].loc[neighbors_df.index]\n",
    "    )\n",
    "\n",
    "    # 3. Sort by similarity and interactions\n",
    "    neighbors_df = neighbors_df.sort_values(\n",
    "        [\"similarity\", \"num_interactions\"], ascending=False\n",
    "    )\n",
    "\n",
    "    return neighbors_df\n",
    "\n",
    "\n",
    "def user_user_recs_part2(\n",
    "    user_id: int, df: pd.DataFrame, user_item: pd.DataFrame, m: int = 10\n",
    ") -> Tuple[Iterable[int], Iterable[str]]:\n",
    "    \"\"\"Loops through the users based on closeness to the input user_id. For each user,\n",
    "        finds articles the user hasn't seen before and provides them as recs. Does this\n",
    "        until m recommendations are found.\n",
    "\n",
    "    Notes:\n",
    "        * Choose the users that have the most total article interactions before choosing\n",
    "            those with fewer article interactions.\n",
    "        * Choose articles with the articles with the most total interactions before\n",
    "            choosing those with fewer total interactions.\n",
    "\n",
    "    Args:\n",
    "        user_id: User ID.\n",
    "        df: pandas dataframe with article_id, title, user_id columns.\n",
    "        user_item: Matrix of users by articles: 1's when a user has interacted with an\n",
    "            article, 0 otherwise.\n",
    "        m: The number of recommendations you want for the user.\n",
    "\n",
    "    Returns:\n",
    "        A list of recommendations for the user by article id.\n",
    "        A list of recommendations for the user by article title.\n",
    "    \"\"\"\n",
    "    # 1. Get sorted users\n",
    "    neighbors_df = get_top_sorted_users(user_id, df, user_item)\n",
    "\n",
    "    # 2. Loop through closest users to find up to M recommendations\n",
    "    recs = []\n",
    "    user_articles_ids = get_user_articles(user_id, user_item, df)[0]\n",
    "    for similar_user in neighbors_df.index:\n",
    "        distinct_articles = [\n",
    "            article_id\n",
    "            for article_id in get_user_articles(similar_user, user_item, df)[0]\n",
    "            if article_id not in user_articles_ids + recs\n",
    "        ]\n",
    "        recs.extend(distinct_articles[: min(len(distinct_articles), m - len(recs))])\n",
    "\n",
    "        if len(recs) >= m:\n",
    "            return recs, get_article_names(recs, df)"
   ]
  },
  {
   "cell_type": "code",
   "execution_count": null,
   "metadata": {
    "collapsed": true
   },
   "outputs": [],
   "source": [
    "# Quick spot check - don't change this code - just use it to test your functions\n",
    "rec_ids, rec_names = user_user_recs_part2(20, df, user_item, m=10)\n",
    "print(\"The top 10 recommendations for user 20 are the following article ids:\")\n",
    "print(rec_ids)\n",
    "print()\n",
    "print(\"The top 10 recommendations for user 20 are the following article names:\")\n",
    "print(rec_names)"
   ]
  },
  {
   "attachments": {},
   "cell_type": "markdown",
   "metadata": {},
   "source": [
    "`5.` Use your functions from above to correctly fill in the solutions to the dictionary below. Then test your dictionary against the solution. Provide the code you need to answer each following the comments below.\n"
   ]
  },
  {
   "cell_type": "code",
   "execution_count": null,
   "metadata": {
    "collapsed": true
   },
   "outputs": [],
   "source": [
    "user1_most_sim = get_top_sorted_users(1, df, user_item).iloc[0].name\n",
    "print(f\"The user that is most similar to user 1 is: {user1_most_sim}\")\n",
    "user131_10th_sim = get_top_sorted_users(131, df, user_item).iloc[9].name\n",
    "print(f\"The 10th most similar user to user 131 is: {user131_10th_sim}\")"
   ]
  },
  {
   "cell_type": "code",
   "execution_count": null,
   "metadata": {
    "collapsed": true
   },
   "outputs": [],
   "source": [
    "## Dictionary Test Here\n",
    "sol_5_dict = {\n",
    "    \"The user that is most similar to user 1.\": user1_most_sim,\n",
    "    \"The user that is the 10th most similar to user 131\": user131_10th_sim,\n",
    "}\n",
    "\n",
    "t.sol_5_test(sol_5_dict)"
   ]
  },
  {
   "attachments": {},
   "cell_type": "markdown",
   "metadata": {},
   "source": [
    "`6.` If we were given a new user, which of the above functions would you be able to use to make recommendations? Explain. Can you think of a better way we might make recommendations? Use the cell below to explain a better method for new users.\n"
   ]
  },
  {
   "attachments": {},
   "cell_type": "markdown",
   "metadata": {},
   "source": [
    "Since we have no information about this new user, we can use `get_top_articles` or `get_top_article_ids` to suggest the articles most commonly viewed by the existing users.\n",
    "\n",
    "Alternatively, if we knew which genres our new user prefers, we could suggest the top articles in that category.\n"
   ]
  },
  {
   "attachments": {},
   "cell_type": "markdown",
   "metadata": {},
   "source": [
    "`7.` Using your existing functions, provide the top 10 recommended articles you would provide for the a new user below. You can test your function against our thoughts to make sure we are all on the same page with how we might make a recommendation.\n"
   ]
  },
  {
   "cell_type": "code",
   "execution_count": null,
   "metadata": {
    "collapsed": true
   },
   "outputs": [],
   "source": [
    "new_user = \"0.0\"\n",
    "new_user_recs = get_top_article_ids(df, 10)"
   ]
  },
  {
   "cell_type": "code",
   "execution_count": null,
   "metadata": {
    "collapsed": true
   },
   "outputs": [],
   "source": [
    "assert set(new_user_recs) == set(\n",
    "    [\n",
    "        1314,\n",
    "        1429,\n",
    "        1293,\n",
    "        1427,\n",
    "        1162,\n",
    "        1364,\n",
    "        1304,\n",
    "        1170,\n",
    "        1431,\n",
    "        1330,\n",
    "    ]\n",
    "), (\n",
    "    \"Oops!  It makes sense that in this case we would want to recommend the most\"\n",
    "    \" popular articles, because we don't know anything about these users.\"\n",
    ")\n",
    "\n",
    "print(\"That's right!  Nice job!\")"
   ]
  },
  {
   "attachments": {},
   "cell_type": "markdown",
   "metadata": {},
   "source": [
    "### <a class=\"anchor\" id=\"Content-Recs\">Part IV: Content Based Recommendations</a>\n",
    "\n",
    "Another method we might use to make recommendations is to perform a ranking of the highest ranked articles associated with some term. You might consider content to be the **doc_body**, **doc_description**, or **doc_full_name**. There isn't one way to create a content based recommendation, especially considering that each of these columns hold content related information.\n",
    "\n",
    "`1.` Use the function body below to create a content based recommender. Since there isn't one right answer for this recommendation tactic, no test functions are provided. Feel free to change the function inputs if you decide you want to try a method that requires more input values. The input values are currently set with one idea in mind that you may use to make content based recommendations. One additional idea is that you might want to choose the most popular recommendations that meet your 'content criteria', but again, there is a lot of flexibility in how you might make these recommendations.\n"
   ]
  },
  {
   "cell_type": "code",
   "execution_count": null,
   "metadata": {},
   "outputs": [],
   "source": [
    "def tokenize(text: str) -> Iterable[str]:\n",
    "    \"\"\"Pre-process text into lemmatized tokens.\n",
    "\n",
    "    Args:\n",
    "        text: Text to process.\n",
    "\n",
    "    Returns:\n",
    "        Iterable of lemmatized tokens.\n",
    "    \"\"\"\n",
    "    # 0. Setup\n",
    "    url_regex = (\n",
    "        r\"http[s]?://(?:[a-zA-Z]|[0-9]|[$-_@.&+]|[!*\\(\\),]|(?:%[0-9a-fA-F]\"\n",
    "        r\"[0-9a-fA-F]))+\"\n",
    "    )\n",
    "    non_alphanum_regex = r\"[^a-z0-9]\"\n",
    "\n",
    "    # 1. Replace URLs\n",
    "    text = re.sub(url_regex, \" \", text)\n",
    "\n",
    "    # 2. Replace non-alphanumeric characters\n",
    "    text = re.sub(non_alphanum_regex, \" \", text.lower())\n",
    "\n",
    "    # 3. Tokenize and lemmatize text\n",
    "    lemmatizer = WordNetLemmatizer()\n",
    "    tokens = [\n",
    "        lemmatizer.lemmatize(lemmatizer.lemmatize(token), pos=\"v\")\n",
    "        for token in word_tokenize(text)\n",
    "        if token not in stopwords.words(\"english\")\n",
    "    ]\n",
    "\n",
    "    return tokens\n",
    "\n",
    "\n",
    "def get_tfidf_matrix(df: pd.DataFrame, tokenizer: Callable) -> pd.DataFrame:\n",
    "    \"\"\"Compute the TF-IDF features for each article a user has interacted with,\n",
    "        based on their title.\n",
    "\n",
    "    Args:\n",
    "        df: pandas dataframe with article_id, title, user_id columns.\n",
    "\n",
    "    Returns:\n",
    "        TF-IDF matrix of articles based on their title.\n",
    "    \"\"\"\n",
    "    # 1. Ensure unique article ids\n",
    "    df_pruned = deepcopy(df).drop_duplicates(subset=[\"title\"])\n",
    "\n",
    "    # 2. Vectorize article titles\n",
    "    vectorizer = TfidfVectorizer()\n",
    "    tfidf_matrix = vectorizer.fit_transform(df_pruned[\"title\"])\n",
    "\n",
    "    # 3. To pandas dataframe and return\n",
    "    return pd.DataFrame(\n",
    "        tfidf_matrix.toarray(),\n",
    "        index=df_pruned[\"article_id\"],\n",
    "        columns=vectorizer.vocabulary_,\n",
    "    )\n",
    "\n",
    "\n",
    "def make_content_recs(\n",
    "    user_id: int,\n",
    "    df: pd.DataFrame,\n",
    "    user_item: pd.DataFrame,\n",
    "    tfidf_matrix: pd.DataFrame,\n",
    "    m: int = 10,\n",
    ") -> Tuple[Iterable[int], Iterable[str]]:\n",
    "    \"\"\"Given a user, find the most similar unseen articles to the ones already read.\n",
    "    If user has no articles read, then return the most popular articles.\n",
    "\n",
    "\n",
    "    Args:\n",
    "        user_id: User ID.\n",
    "        df: pandas dataframe with article_id, title, user_id columns.\n",
    "        user_item: Matrix of users by articles: 1's when a user has interacted with an\n",
    "            article, 0 otherwise.\n",
    "        tfidf_matrix: TF-IDF matrix of articles based on their title.\n",
    "        m: The number of recommendations you want for the user.\n",
    "\n",
    "    Returns:\n",
    "        A list of recommendations for the user by article id.\n",
    "        A list of recommendations for the user by article title.\n",
    "    \"\"\"\n",
    "    # 1. Get articles intereacted with by user\n",
    "    user_articles_ids = get_user_articles(user_id, user_item, df)[0]\n",
    "\n",
    "    # 2. Get article recommendations for user\n",
    "    if len(user_articles_ids) == 0:\n",
    "        print(f\"User {user_id} has no articles. Returning the most popular ones.\")\n",
    "        article_ids = get_top_article_ids(df, n=m)\n",
    "    else:\n",
    "        # 2.1. Compute average cosine similarity between user articles and the rest\n",
    "        avg_sim = cosine_similarity(\n",
    "            tfidf_matrix.loc[user_articles_ids, :], tfidf_matrix\n",
    "        ).mean(axis=0)\n",
    "\n",
    "        # 2.2. Sort in descending order, return top 10 article ids\n",
    "        avg_sim_sorted = (\n",
    "            pd.Series(avg_sim.mean(axis=0), index=tfidf_matrix.index)\n",
    "            .drop(user_articles_ids)\n",
    "            .sort_values(ascending=False)\n",
    "        )\n",
    "        article_ids = avg_sim_sorted.iloc[:m].index.tolist()\n",
    "\n",
    "    return article_ids, get_article_names(article_ids, df)"
   ]
  },
  {
   "cell_type": "code",
   "execution_count": null,
   "metadata": {},
   "outputs": [],
   "source": [
    "tfidf_matrix = get_tfidf_matrix(df, tokenize)"
   ]
  },
  {
   "cell_type": "code",
   "execution_count": null,
   "metadata": {},
   "outputs": [],
   "source": [
    "make_content_recs(5149, df, user_item, tfidf_matrix, 10)"
   ]
  },
  {
   "attachments": {},
   "cell_type": "markdown",
   "metadata": {},
   "source": [
    "`2.` Now that you have put together your content-based recommendation system, use the cell below to write a summary explaining how your content based recommender works. Do you see any possible improvements that could be made to your function? Is there anything novel about your content based recommender?\n"
   ]
  },
  {
   "attachments": {},
   "cell_type": "markdown",
   "metadata": {},
   "source": [
    "I have implemented a simple content-based recommendation system based on TF-IDF feature vectors (obtained from articles' titles). To generate recommendations, the system looks at the articles already interacted with for the user in question. Then, the cosine similarity metric is calculated between the articles already viewed by the user and any other. The system returns as recommendations the IDs and titles of the articles with the highest cosine similarity.\n",
    "\n",
    "This is a naive method solely based on title information. Since we don't have information for all articles from `df` in `df_conent`, I used article title in `df` for simplicity and completeness. Ideally, instead of the title, I would use the content or description of the article to generate the TF-IDF vectors. Naturally, many other options for the text features are possible, such as `doc2vec`."
   ]
  },
  {
   "attachments": {},
   "cell_type": "markdown",
   "metadata": {},
   "source": [
    "`3.` Use your content-recommendation system to make recommendations for the below scenarios based on the comments. Again no tests are provided here, because there isn't one right answer that could be used to find these content based recommendations.\n"
   ]
  },
  {
   "attachments": {},
   "cell_type": "markdown",
   "metadata": {},
   "source": [
    "Make recommendations for a brand new user"
   ]
  },
  {
   "cell_type": "code",
   "execution_count": null,
   "metadata": {},
   "outputs": [],
   "source": [
    "make_content_recs(9999, df, user_item, tfidf_matrix, 10)"
   ]
  },
  {
   "attachments": {},
   "cell_type": "markdown",
   "metadata": {},
   "source": [
    "Make a recommendations for a user who only has interacted with article id `1427`"
   ]
  },
  {
   "cell_type": "code",
   "execution_count": null,
   "metadata": {
    "collapsed": true
   },
   "outputs": [],
   "source": [
    "user_id = np.random.choice(user_item[user_item[1427] == 1].index.array)\n",
    "print(f\"Showing top 10 recommendations for user: {user_id}\")\n",
    "make_content_recs(user_id, df, user_item, tfidf_matrix, 10)"
   ]
  },
  {
   "attachments": {},
   "cell_type": "markdown",
   "metadata": {},
   "source": [
    "### <a class=\"anchor\" id=\"Matrix-Fact\">Part V: Matrix Factorization</a>\n",
    "\n",
    "In this part of the notebook, you will build use matrix factorization to make article recommendations to the users on the IBM Watson Studio platform.\n",
    "\n",
    "`1.` You should have already created a **user_item** matrix above in **question 1** of **Part III** above. This first question here will just require that you run the cells to get things set up for the rest of **Part V** of the notebook.\n"
   ]
  },
  {
   "cell_type": "code",
   "execution_count": null,
   "metadata": {
    "collapsed": true
   },
   "outputs": [],
   "source": [
    "# Load the matrix here\n",
    "user_item_matrix = pd.read_pickle(\"user_item_matrix.p\")\n"
   ]
  },
  {
   "cell_type": "code",
   "execution_count": null,
   "metadata": {
    "collapsed": true
   },
   "outputs": [],
   "source": [
    "# quick look at the matrix\n",
    "user_item_matrix.head()\n"
   ]
  },
  {
   "attachments": {},
   "cell_type": "markdown",
   "metadata": {},
   "source": [
    "`2.` In this situation, you can use Singular Value Decomposition from [numpy](https://docs.scipy.org/doc/numpy-1.14.0/reference/generated/numpy.linalg.svd.html) on the user-item matrix. Use the cell to perform SVD, and explain why this is different than in the lesson.\n"
   ]
  },
  {
   "cell_type": "code",
   "execution_count": null,
   "metadata": {
    "collapsed": true
   },
   "outputs": [],
   "source": [
    "# Perform SVD on the User-Item Matrix Here\n",
    "\n",
    "u, s, vt = # use the built in to get the three matrices"
   ]
  },
  {
   "attachments": {},
   "cell_type": "markdown",
   "metadata": {},
   "source": [
    "**Provide your response here.**\n"
   ]
  },
  {
   "attachments": {},
   "cell_type": "markdown",
   "metadata": {},
   "source": [
    "`3.` Now for the tricky part, how do we choose the number of latent features to use? Running the below cell, you can see that as the number of latent features increases, we obtain a lower error rate on making predictions for the 1 and 0 values in the user-item matrix. Run the cell below to get an idea of how the accuracy improves as we increase the number of latent features.\n"
   ]
  },
  {
   "cell_type": "code",
   "execution_count": null,
   "metadata": {
    "collapsed": true
   },
   "outputs": [],
   "source": [
    "num_latent_feats = np.arange(10, 700 + 10, 20)\n",
    "sum_errs = []\n",
    "\n",
    "for k in num_latent_feats:\n",
    "    # restructure with k latent features\n",
    "    s_new, u_new, vt_new = np.diag(s[:k]), u[:, :k], vt[:k, :]\n",
    "\n",
    "    # take dot product\n",
    "    user_item_est = np.around(np.dot(np.dot(u_new, s_new), vt_new))\n",
    "\n",
    "    # compute error for each prediction to actual value\n",
    "    diffs = np.subtract(user_item_matrix, user_item_est)\n",
    "\n",
    "    # total errors and keep track of them\n",
    "    err = np.sum(np.sum(np.abs(diffs)))\n",
    "    sum_errs.append(err)\n",
    "\n",
    "\n",
    "plt.plot(num_latent_feats, 1 - np.array(sum_errs) / df.shape[0])\n",
    "plt.xlabel(\"Number of Latent Features\")\n",
    "plt.ylabel(\"Accuracy\")\n",
    "plt.title(\"Accuracy vs. Number of Latent Features\")\n"
   ]
  },
  {
   "attachments": {},
   "cell_type": "markdown",
   "metadata": {},
   "source": [
    "`4.` From the above, we can't really be sure how many features to use, because simply having a better way to predict the 1's and 0's of the matrix doesn't exactly give us an indication of if we are able to make good recommendations. Instead, we might split our dataset into a training and test set of data, as shown in the cell below.\n",
    "\n",
    "Use the code from question 3 to understand the impact on accuracy of the training and test sets of data with different numbers of latent features. Using the split below:\n",
    "\n",
    "- How many users can we make predictions for in the test set?\n",
    "- How many users are we not able to make predictions for because of the cold start problem?\n",
    "- How many articles can we make predictions for in the test set?\n",
    "- How many articles are we not able to make predictions for because of the cold start problem?\n"
   ]
  },
  {
   "cell_type": "code",
   "execution_count": null,
   "metadata": {
    "collapsed": true
   },
   "outputs": [],
   "source": [
    "df_train = df.head(40000)\n",
    "df_test = df.tail(5993)\n",
    "\n",
    "\n",
    "def create_test_and_train_user_item(df_train, df_test):\n",
    "    \"\"\"\n",
    "    INPUT:\n",
    "    df_train - training dataframe\n",
    "    df_test - test dataframe\n",
    "\n",
    "    OUTPUT:\n",
    "    user_item_train - a user-item matrix of the training dataframe\n",
    "                      (unique users for each row and unique articles for each column)\n",
    "    user_item_test - a user-item matrix of the testing dataframe\n",
    "                    (unique users for each row and unique articles for each column)\n",
    "    test_idx - all of the test user ids\n",
    "    test_arts - all of the test article ids\n",
    "\n",
    "    \"\"\"\n",
    "    # Your code here\n",
    "\n",
    "    return user_item_train, user_item_test, test_idx, test_arts\n",
    "\n",
    "\n",
    "user_item_train, user_item_test, test_idx, test_arts = create_test_and_train_user_item(\n",
    "    df_train, df_test\n",
    ")\n"
   ]
  },
  {
   "cell_type": "code",
   "execution_count": null,
   "metadata": {
    "collapsed": true
   },
   "outputs": [],
   "source": [
    "# Replace the values in the dictionary below\n",
    "a = 662 \n",
    "b = 574 \n",
    "c = 20 \n",
    "d = 0 \n",
    "\n",
    "\n",
    "sol_4_dict = {\n",
    "    'How many users can we make predictions for in the test set?': # letter here, \n",
    "    'How many users in the test set are we not able to make predictions for because of the cold start problem?': # letter here, \n",
    "    'How many articles can we make predictions for in the test set?': # letter here,\n",
    "    'How many articles in the test set are we not able to make predictions for because of the cold start problem?': # letter here\n",
    "}\n",
    "\n",
    "t.sol_4_test(sol_4_dict)"
   ]
  },
  {
   "attachments": {},
   "cell_type": "markdown",
   "metadata": {},
   "source": [
    "`5.` Now use the **user_item_train** dataset from above to find U, S, and V transpose using SVD. Then find the subset of rows in the **user_item_test** dataset that you can predict using this matrix decomposition with different numbers of latent features to see how many features makes sense to keep based on the accuracy on the test data. This will require combining what was done in questions `2` - `4`.\n",
    "\n",
    "Use the cells below to explore how well SVD works towards making predictions for recommendations on the test data.\n"
   ]
  },
  {
   "cell_type": "code",
   "execution_count": null,
   "metadata": {
    "collapsed": true
   },
   "outputs": [],
   "source": [
    "# fit SVD on the user_item_train matrix\n",
    "u_train, s_train, vt_train = # fit svd similar to above then use the cells below"
   ]
  },
  {
   "cell_type": "code",
   "execution_count": null,
   "metadata": {
    "collapsed": true
   },
   "outputs": [],
   "source": [
    "# Use these cells to see how well you can use the training\n",
    "# decomposition to predict on test data\n"
   ]
  },
  {
   "cell_type": "code",
   "execution_count": null,
   "metadata": {
    "collapsed": true
   },
   "outputs": [],
   "source": []
  },
  {
   "cell_type": "code",
   "execution_count": null,
   "metadata": {
    "collapsed": true
   },
   "outputs": [],
   "source": []
  },
  {
   "attachments": {},
   "cell_type": "markdown",
   "metadata": {
    "collapsed": true
   },
   "source": [
    "`6.` Use the cell below to comment on the results you found in the previous question. Given the circumstances of your results, discuss what you might do to determine if the recommendations you make with any of the above recommendation systems are an improvement to how users currently find articles?\n"
   ]
  },
  {
   "attachments": {},
   "cell_type": "markdown",
   "metadata": {},
   "source": [
    "**Your response here.**\n"
   ]
  },
  {
   "attachments": {},
   "cell_type": "markdown",
   "metadata": {
    "collapsed": true
   },
   "source": [
    "<a id='conclusions'></a>\n",
    "\n",
    "## Conclusion\n",
    "\n",
    "> Congratulations! You have reached the end of the Recommendations with IBM project!\n",
    "\n",
    "> **Tip**: Once you are satisfied with your work here, check over your report to make sure that it is satisfies all the areas of the [rubric](https://review.udacity.com/#!/rubrics/2322/view). You should also probably remove all of the \"Tips\" like this one so that the presentation is as polished as possible.\n",
    "\n",
    "## Directions to Submit\n",
    "\n",
    "> Before you submit your project, you need to create a .html or .pdf version of this notebook in the workspace here. To do that, run the code cell below. If it worked correctly, you should get a return code of 0, and you should see the generated .html file in the workspace directory (click on the orange Jupyter icon in the upper left).\n",
    "\n",
    "> Alternatively, you can download this report as .html via the **File** > **Download as** submenu, and then manually upload it into the workspace directory by clicking on the orange Jupyter icon in the upper left, then using the Upload button.\n",
    "\n",
    "> Once you've done this, you can submit your project by clicking on the \"Submit Project\" button in the lower right here. This will create and submit a zip file with this .ipynb doc and the .html or .pdf version you created. Congratulations!\n"
   ]
  },
  {
   "cell_type": "code",
   "execution_count": null,
   "metadata": {
    "collapsed": true
   },
   "outputs": [],
   "source": [
    "from subprocess import call\n",
    "\n",
    "call([\"python\", \"-m\", \"nbconvert\", \"Recommendations_with_IBM.ipynb\"])\n"
   ]
  }
 ],
 "metadata": {
  "kernelspec": {
   "display_name": "ibm_recommender",
   "language": "python",
   "name": "python3"
  },
  "language_info": {
   "codemirror_mode": {
    "name": "ipython",
    "version": 3
   },
   "file_extension": ".py",
   "mimetype": "text/x-python",
   "name": "python",
   "nbconvert_exporter": "python",
   "pygments_lexer": "ipython3",
   "version": "3.11.0"
  },
  "vscode": {
   "interpreter": {
    "hash": "a8453320a7b800e8c6308a1d168fe7653b5c1c5292a0e1a43f95b66d977a4e8c"
   }
  }
 },
 "nbformat": 4,
 "nbformat_minor": 2
}
