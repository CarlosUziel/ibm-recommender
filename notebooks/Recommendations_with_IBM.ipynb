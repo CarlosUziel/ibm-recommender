{
 "cells": [
  {
   "attachments": {},
   "cell_type": "markdown",
   "metadata": {},
   "source": [
    "# Recommendations with IBM\n",
    "\n",
    "In this notebook, you will be putting your recommendation skills to use on real data from the IBM Watson Studio platform.\n",
    "\n",
    "You may either submit your notebook through the workspace here, or you may work from your local machine and submit through the next page. Either way assure that your code passes the project [RUBRIC](https://review.udacity.com/#!/rubrics/3325/view). **Please save regularly.**\n",
    "\n",
    "By following the table of contents, you will build out a number of different methods for making recommendations that can be used for different situations.\n",
    "\n",
    "## Table of Contents\n",
    "\n",
    "I. [Exploratory Data Analysis](#Exploratory-Data-Analysis)<br>\n",
    "II. [Rank Based Recommendations](#Rank)<br>\n",
    "III. [User-User Based Collaborative Filtering](#User-User)<br>\n",
    "IV. [Content Based Recommendations (EXTRA - NOT REQUIRED)](#Content-Recs)<br>\n",
    "V. [Matrix Factorization](#Matrix-Fact)<br>\n",
    "\n",
    "At the end of the notebook, you will find directions for how to submit your work. Let's get started by importing the necessary libraries and reading in the data.\n"
   ]
  },
  {
   "cell_type": "code",
   "execution_count": 1,
   "metadata": {},
   "outputs": [],
   "source": [
    "%load_ext autoreload\n",
    "%autoreload 2"
   ]
  },
  {
   "cell_type": "code",
   "execution_count": 2,
   "metadata": {
    "collapsed": true
   },
   "outputs": [],
   "source": [
    "import sys\n",
    "import re\n",
    "from subprocess import call\n",
    "\n",
    "from copy import deepcopy\n",
    "import pandas as pd\n",
    "import numpy as np\n",
    "import matplotlib.pyplot as plt\n",
    "import pickle\n",
    "from typing import Iterable, Callable, Tuple\n",
    "from pathlib import Path\n",
    "from IPython import display as ICD\n",
    "from nltk.corpus import stopwords\n",
    "from nltk.stem.wordnet import WordNetLemmatizer\n",
    "from nltk.tokenize import word_tokenize\n",
    "from sklearn.metrics.pairwise import cosine_similarity\n",
    "from sklearn.feature_extraction.text import TfidfVectorizer\n",
    "from sklearn.metrics.pairwise import cosine_similarity\n",
    "\n",
    "%matplotlib inline"
   ]
  },
  {
   "cell_type": "code",
   "execution_count": 3,
   "metadata": {},
   "outputs": [],
   "source": [
    "src_path: str = \"../src\"\n",
    "sys.path.append(src_path)\n"
   ]
  },
  {
   "cell_type": "code",
   "execution_count": 4,
   "metadata": {},
   "outputs": [],
   "source": [
    "import tests.project_tests as t\n"
   ]
  },
  {
   "cell_type": "code",
   "execution_count": 5,
   "metadata": {},
   "outputs": [],
   "source": [
    "data_root: Path = Path(\"../data\")\n"
   ]
  },
  {
   "cell_type": "code",
   "execution_count": 6,
   "metadata": {},
   "outputs": [
    {
     "name": "stdout",
     "output_type": "stream",
     "text": [
      "User-item interactions dataset (45993, 3):\n"
     ]
    },
    {
     "data": {
      "text/html": [
       "<div>\n",
       "<style scoped>\n",
       "    .dataframe tbody tr th:only-of-type {\n",
       "        vertical-align: middle;\n",
       "    }\n",
       "\n",
       "    .dataframe tbody tr th {\n",
       "        vertical-align: top;\n",
       "    }\n",
       "\n",
       "    .dataframe thead th {\n",
       "        text-align: right;\n",
       "    }\n",
       "</style>\n",
       "<table border=\"1\" class=\"dataframe\">\n",
       "  <thead>\n",
       "    <tr style=\"text-align: right;\">\n",
       "      <th></th>\n",
       "      <th>article_id</th>\n",
       "      <th>title</th>\n",
       "      <th>email</th>\n",
       "    </tr>\n",
       "  </thead>\n",
       "  <tbody>\n",
       "    <tr>\n",
       "      <th>0</th>\n",
       "      <td>1430</td>\n",
       "      <td>using pixiedust for fast, flexible, and easier...</td>\n",
       "      <td>ef5f11f77ba020cd36e1105a00ab868bbdbf7fe7</td>\n",
       "    </tr>\n",
       "    <tr>\n",
       "      <th>1</th>\n",
       "      <td>1314</td>\n",
       "      <td>healthcare python streaming application demo</td>\n",
       "      <td>083cbdfa93c8444beaa4c5f5e0f5f9198e4f9e0b</td>\n",
       "    </tr>\n",
       "    <tr>\n",
       "      <th>2</th>\n",
       "      <td>1429</td>\n",
       "      <td>use deep learning for image classification</td>\n",
       "      <td>b96a4f2e92d8572034b1e9b28f9ac673765cd074</td>\n",
       "    </tr>\n",
       "    <tr>\n",
       "      <th>3</th>\n",
       "      <td>1338</td>\n",
       "      <td>ml optimization using cognitive assistant</td>\n",
       "      <td>06485706b34a5c9bf2a0ecdac41daf7e7654ceb7</td>\n",
       "    </tr>\n",
       "    <tr>\n",
       "      <th>4</th>\n",
       "      <td>1276</td>\n",
       "      <td>deploy your python model as a restful api</td>\n",
       "      <td>f01220c46fc92c6e6b161b1849de11faacd7ccb2</td>\n",
       "    </tr>\n",
       "  </tbody>\n",
       "</table>\n",
       "</div>"
      ],
      "text/plain": [
       "   article_id                                              title  \\\n",
       "0        1430  using pixiedust for fast, flexible, and easier...   \n",
       "1        1314       healthcare python streaming application demo   \n",
       "2        1429         use deep learning for image classification   \n",
       "3        1338          ml optimization using cognitive assistant   \n",
       "4        1276          deploy your python model as a restful api   \n",
       "\n",
       "                                      email  \n",
       "0  ef5f11f77ba020cd36e1105a00ab868bbdbf7fe7  \n",
       "1  083cbdfa93c8444beaa4c5f5e0f5f9198e4f9e0b  \n",
       "2  b96a4f2e92d8572034b1e9b28f9ac673765cd074  \n",
       "3  06485706b34a5c9bf2a0ecdac41daf7e7654ceb7  \n",
       "4  f01220c46fc92c6e6b161b1849de11faacd7ccb2  "
      ]
     },
     "metadata": {},
     "output_type": "display_data"
    },
    {
     "name": "stdout",
     "output_type": "stream",
     "text": [
      "Articles community dataset (1056, 5):\n"
     ]
    },
    {
     "data": {
      "text/html": [
       "<div>\n",
       "<style scoped>\n",
       "    .dataframe tbody tr th:only-of-type {\n",
       "        vertical-align: middle;\n",
       "    }\n",
       "\n",
       "    .dataframe tbody tr th {\n",
       "        vertical-align: top;\n",
       "    }\n",
       "\n",
       "    .dataframe thead th {\n",
       "        text-align: right;\n",
       "    }\n",
       "</style>\n",
       "<table border=\"1\" class=\"dataframe\">\n",
       "  <thead>\n",
       "    <tr style=\"text-align: right;\">\n",
       "      <th></th>\n",
       "      <th>doc_body</th>\n",
       "      <th>doc_description</th>\n",
       "      <th>doc_full_name</th>\n",
       "      <th>doc_status</th>\n",
       "      <th>article_id</th>\n",
       "    </tr>\n",
       "  </thead>\n",
       "  <tbody>\n",
       "    <tr>\n",
       "      <th>0</th>\n",
       "      <td>Skip navigation Sign in SearchLoading...\\r\\n\\r...</td>\n",
       "      <td>Detect bad readings in real time using Python ...</td>\n",
       "      <td>Detect Malfunctioning IoT Sensors with Streami...</td>\n",
       "      <td>Live</td>\n",
       "      <td>0</td>\n",
       "    </tr>\n",
       "    <tr>\n",
       "      <th>1</th>\n",
       "      <td>No Free Hunch Navigation * kaggle.com\\r\\n\\r\\n ...</td>\n",
       "      <td>See the forest, see the trees. Here lies the c...</td>\n",
       "      <td>Communicating data science: A guide to present...</td>\n",
       "      <td>Live</td>\n",
       "      <td>1</td>\n",
       "    </tr>\n",
       "    <tr>\n",
       "      <th>2</th>\n",
       "      <td>☰ * Login\\r\\n * Sign Up\\r\\n\\r\\n * Learning Pat...</td>\n",
       "      <td>Here’s this week’s news in Data Science and Bi...</td>\n",
       "      <td>This Week in Data Science (April 18, 2017)</td>\n",
       "      <td>Live</td>\n",
       "      <td>2</td>\n",
       "    </tr>\n",
       "    <tr>\n",
       "      <th>3</th>\n",
       "      <td>DATALAYER: HIGH THROUGHPUT, LOW LATENCY AT SCA...</td>\n",
       "      <td>Learn how distributed DBs solve the problem of...</td>\n",
       "      <td>DataLayer Conference: Boost the performance of...</td>\n",
       "      <td>Live</td>\n",
       "      <td>3</td>\n",
       "    </tr>\n",
       "    <tr>\n",
       "      <th>4</th>\n",
       "      <td>Skip navigation Sign in SearchLoading...\\r\\n\\r...</td>\n",
       "      <td>This video demonstrates the power of IBM DataS...</td>\n",
       "      <td>Analyze NY Restaurant data using Spark in DSX</td>\n",
       "      <td>Live</td>\n",
       "      <td>4</td>\n",
       "    </tr>\n",
       "  </tbody>\n",
       "</table>\n",
       "</div>"
      ],
      "text/plain": [
       "                                            doc_body  \\\n",
       "0  Skip navigation Sign in SearchLoading...\\r\\n\\r...   \n",
       "1  No Free Hunch Navigation * kaggle.com\\r\\n\\r\\n ...   \n",
       "2  ☰ * Login\\r\\n * Sign Up\\r\\n\\r\\n * Learning Pat...   \n",
       "3  DATALAYER: HIGH THROUGHPUT, LOW LATENCY AT SCA...   \n",
       "4  Skip navigation Sign in SearchLoading...\\r\\n\\r...   \n",
       "\n",
       "                                     doc_description  \\\n",
       "0  Detect bad readings in real time using Python ...   \n",
       "1  See the forest, see the trees. Here lies the c...   \n",
       "2  Here’s this week’s news in Data Science and Bi...   \n",
       "3  Learn how distributed DBs solve the problem of...   \n",
       "4  This video demonstrates the power of IBM DataS...   \n",
       "\n",
       "                                       doc_full_name doc_status  article_id  \n",
       "0  Detect Malfunctioning IoT Sensors with Streami...       Live           0  \n",
       "1  Communicating data science: A guide to present...       Live           1  \n",
       "2         This Week in Data Science (April 18, 2017)       Live           2  \n",
       "3  DataLayer Conference: Boost the performance of...       Live           3  \n",
       "4      Analyze NY Restaurant data using Spark in DSX       Live           4  "
      ]
     },
     "metadata": {},
     "output_type": "display_data"
    }
   ],
   "source": [
    "df = pd.read_csv(\n",
    "    data_root.joinpath(\"user_item_interactions.csv\"),\n",
    "    dtype={\"article_id\": int},\n",
    ")\n",
    "df_content = pd.read_csv(\n",
    "    data_root.joinpath(\"articles_community.csv\"),\n",
    "    dtype={\"article_id\": int},\n",
    ")\n",
    "\n",
    "print(f\"User-item interactions dataset {df.shape}:\")\n",
    "ICD.display(df.head())\n",
    "\n",
    "print(f\"Articles community dataset {df_content.shape}:\")\n",
    "ICD.display(df_content.head())\n"
   ]
  },
  {
   "attachments": {},
   "cell_type": "markdown",
   "metadata": {},
   "source": [
    "### <a class=\"anchor\" id=\"Exploratory-Data-Analysis\">Part I : Exploratory Data Analysis</a>\n",
    "\n",
    "Use the dictionary and cells below to provide some insight into the descriptive statistics of the data.\n",
    "\n",
    "`1.` What is the distribution of how many articles a user interacts with in the dataset? Provide a visual and descriptive statistics to assist with giving a look at the number of times each user interacts with an article.\n"
   ]
  },
  {
   "cell_type": "code",
   "execution_count": 7,
   "metadata": {
    "collapsed": true
   },
   "outputs": [
    {
     "data": {
      "text/plain": [
       "Text(0.5, 0, 'Log2(Number of articles)')"
      ]
     },
     "execution_count": 7,
     "metadata": {},
     "output_type": "execute_result"
    },
    {
     "data": {
      "image/png": "[encoded data removed]",
      "text/plain": [
       "<Figure size 640x480 with 1 Axes>"
      ]
     },
     "metadata": {},
     "output_type": "display_data"
    }
   ],
   "source": [
    "user_article_counts = df.groupby(\"email\")[\"article_id\"].count().sort_values()\n",
    "\n",
    "np.log(user_article_counts).plot(kind=\"hist\")\n",
    "plt.title(\"Log2 distribution of the number of articles a user interacts with\")\n",
    "plt.xlabel(\"Log2(Number of articles)\")\n"
   ]
  },
  {
   "cell_type": "code",
   "execution_count": 8,
   "metadata": {
    "collapsed": true
   },
   "outputs": [
    {
     "name": "stdout",
     "output_type": "stream",
     "text": [
      "50% of individuals interact with 3.00 number of articles or fewer\n",
      "The maximum number of user-article interactions by any 1 user is 364.00.\n"
     ]
    }
   ],
   "source": [
    "median_val = user_article_counts.median()\n",
    "print(f\"50% of individuals interact with {median_val:.2f} number of articles or fewer\")\n",
    "max_views_by_user = user_article_counts.max()\n",
    "print(\n",
    "    \"The maximum number of user-article interactions by any 1 user is\"\n",
    "    f\" {max_views_by_user:.2f}.\"\n",
    ")\n"
   ]
  },
  {
   "attachments": {},
   "cell_type": "markdown",
   "metadata": {},
   "source": [
    "`2.` Explore and remove duplicate articles from the **df_content** dataframe.\n"
   ]
  },
  {
   "cell_type": "code",
   "execution_count": 9,
   "metadata": {
    "collapsed": true
   },
   "outputs": [
    {
     "data": {
      "text/html": [
       "<div>\n",
       "<style scoped>\n",
       "    .dataframe tbody tr th:only-of-type {\n",
       "        vertical-align: middle;\n",
       "    }\n",
       "\n",
       "    .dataframe tbody tr th {\n",
       "        vertical-align: top;\n",
       "    }\n",
       "\n",
       "    .dataframe thead th {\n",
       "        text-align: right;\n",
       "    }\n",
       "</style>\n",
       "<table border=\"1\" class=\"dataframe\">\n",
       "  <thead>\n",
       "    <tr style=\"text-align: right;\">\n",
       "      <th></th>\n",
       "      <th>doc_body</th>\n",
       "      <th>doc_description</th>\n",
       "      <th>doc_full_name</th>\n",
       "      <th>doc_status</th>\n",
       "      <th>article_id</th>\n",
       "    </tr>\n",
       "  </thead>\n",
       "  <tbody>\n",
       "    <tr>\n",
       "      <th>365</th>\n",
       "      <td>Follow Sign in / Sign up Home About Insight Da...</td>\n",
       "      <td>During the seven-week Insight Data Engineering...</td>\n",
       "      <td>Graph-based machine learning</td>\n",
       "      <td>Live</td>\n",
       "      <td>50</td>\n",
       "    </tr>\n",
       "    <tr>\n",
       "      <th>692</th>\n",
       "      <td>Homepage Follow Sign in / Sign up Homepage * H...</td>\n",
       "      <td>One of the earliest documented catalogs was co...</td>\n",
       "      <td>How smart catalogs can turn the big data flood...</td>\n",
       "      <td>Live</td>\n",
       "      <td>221</td>\n",
       "    </tr>\n",
       "    <tr>\n",
       "      <th>761</th>\n",
       "      <td>Homepage Follow Sign in Get started Homepage *...</td>\n",
       "      <td>Today’s world of data science leverages data f...</td>\n",
       "      <td>Using Apache Spark as a parallel processing fr...</td>\n",
       "      <td>Live</td>\n",
       "      <td>398</td>\n",
       "    </tr>\n",
       "    <tr>\n",
       "      <th>970</th>\n",
       "      <td>This video shows you how to construct queries ...</td>\n",
       "      <td>This video shows you how to construct queries ...</td>\n",
       "      <td>Use the Primary Index</td>\n",
       "      <td>Live</td>\n",
       "      <td>577</td>\n",
       "    </tr>\n",
       "    <tr>\n",
       "      <th>971</th>\n",
       "      <td>Homepage Follow Sign in Get started * Home\\r\\n...</td>\n",
       "      <td>If you are like most data scientists, you are ...</td>\n",
       "      <td>Self-service data preparation with IBM Data Re...</td>\n",
       "      <td>Live</td>\n",
       "      <td>232</td>\n",
       "    </tr>\n",
       "  </tbody>\n",
       "</table>\n",
       "</div>"
      ],
      "text/plain": [
       "                                              doc_body  \\\n",
       "365  Follow Sign in / Sign up Home About Insight Da...   \n",
       "692  Homepage Follow Sign in / Sign up Homepage * H...   \n",
       "761  Homepage Follow Sign in Get started Homepage *...   \n",
       "970  This video shows you how to construct queries ...   \n",
       "971  Homepage Follow Sign in Get started * Home\\r\\n...   \n",
       "\n",
       "                                       doc_description  \\\n",
       "365  During the seven-week Insight Data Engineering...   \n",
       "692  One of the earliest documented catalogs was co...   \n",
       "761  Today’s world of data science leverages data f...   \n",
       "970  This video shows you how to construct queries ...   \n",
       "971  If you are like most data scientists, you are ...   \n",
       "\n",
       "                                         doc_full_name doc_status  article_id  \n",
       "365                       Graph-based machine learning       Live          50  \n",
       "692  How smart catalogs can turn the big data flood...       Live         221  \n",
       "761  Using Apache Spark as a parallel processing fr...       Live         398  \n",
       "970                              Use the Primary Index       Live         577  \n",
       "971  Self-service data preparation with IBM Data Re...       Live         232  "
      ]
     },
     "execution_count": 9,
     "metadata": {},
     "output_type": "execute_result"
    }
   ],
   "source": [
    "# Find and explore duplicate articles\n",
    "df_content[df_content.duplicated(subset=[\"article_id\"])]\n"
   ]
  },
  {
   "cell_type": "code",
   "execution_count": 10,
   "metadata": {
    "collapsed": true
   },
   "outputs": [],
   "source": [
    "# Remove any rows that have the same article_id - only keep the first\n",
    "df_content = df_content.drop_duplicates(subset=[\"article_id\"])\n"
   ]
  },
  {
   "attachments": {},
   "cell_type": "markdown",
   "metadata": {},
   "source": [
    "`3.` Use the cells below to find:\n",
    "\n",
    "**a.** The number of unique articles that have an interaction with a user.  \n",
    "**b.** The number of unique articles in the dataset (whether they have any interactions or not).<br>\n",
    "**c.** The number of unique users in the dataset. (excluding null values) <br>\n",
    "**d.** The number of user-article interactions in the dataset.\n"
   ]
  },
  {
   "cell_type": "code",
   "execution_count": 11,
   "metadata": {
    "collapsed": true
   },
   "outputs": [
    {
     "name": "stdout",
     "output_type": "stream",
     "text": [
      "Number of unique articles that have at least one interaction: 714\n",
      "Number of unique articles on the IBM platform: 1051\n",
      "Number of unique users: 5148\n",
      "Number of user-article interactions: 45993\n"
     ]
    }
   ],
   "source": [
    "unique_articles = df[\"article_id\"].nunique()\n",
    "print(\n",
    "    f\"Number of unique articles that have at least one interaction: {unique_articles}\"\n",
    ")\n",
    "\n",
    "total_articles = df_content[\n",
    "    \"article_id\"\n",
    "].nunique()  # The number of unique articles on the IBM platform\n",
    "print(f\"Number of unique articles on the IBM platform: {total_articles}\")\n",
    "\n",
    "unique_users = df[\"email\"].nunique()\n",
    "print(f\"Number of unique users: {unique_users}\")\n",
    "\n",
    "user_article_interactions = len(df)\n",
    "print(f\"Number of user-article interactions: {user_article_interactions}\")\n"
   ]
  },
  {
   "attachments": {},
   "cell_type": "markdown",
   "metadata": {},
   "source": [
    "`4.` Use the cells below to find the most viewed **article_id**, as well as how often it was viewed. After talking to the company leaders, the `email_mapper` function was deemed a reasonable way to map users to ids. There were a small number of null values, and it was found that all of these null values likely belonged to a single user (which is how they are stored using the function below).\n"
   ]
  },
  {
   "cell_type": "code",
   "execution_count": 12,
   "metadata": {
    "collapsed": true
   },
   "outputs": [],
   "source": [
    "views_per_article = df.groupby(\"article_id\")[\"email\"].count().sort_values()\n"
   ]
  },
  {
   "cell_type": "code",
   "execution_count": 13,
   "metadata": {
    "collapsed": true
   },
   "outputs": [
    {
     "name": "stdout",
     "output_type": "stream",
     "text": [
      "The most viewed article in the dataset: 1429\n",
      "The most viewed article in the dataset was viewed 937 times.\n"
     ]
    }
   ],
   "source": [
    "most_viewed_article_id = str(views_per_article.index[-1])\n",
    "print(f\"The most viewed article in the dataset: {most_viewed_article_id}\")\n",
    "\n",
    "max_views = views_per_article.iloc[-1]\n",
    "print(f\"The most viewed article in the dataset was viewed {max_views} times.\")\n"
   ]
  },
  {
   "cell_type": "code",
   "execution_count": 14,
   "metadata": {
    "collapsed": true
   },
   "outputs": [],
   "source": [
    "def email_mapper(df: pd.DataFrame, email_col: str = \"email\") -> Iterable[int]:\n",
    "    \"\"\"Map email column to unique user IDs.\n",
    "\n",
    "    Args:\n",
    "        df: Dataframe whose email column to map.\n",
    "        email_col: Email column to map.\n",
    "\n",
    "    Returns:\n",
    "        Decoded list of user IDs.\n",
    "    \"\"\"\n",
    "    user_id_map = {\n",
    "        v: k\n",
    "        for k, v in dict(\n",
    "            enumerate(df[email_col].drop_duplicates(keep=\"first\").tolist(), start=1)\n",
    "        ).items()\n",
    "    }\n",
    "    return df[email_col].map(user_id_map)\n"
   ]
  },
  {
   "cell_type": "code",
   "execution_count": 15,
   "metadata": {},
   "outputs": [
    {
     "data": {
      "text/html": [
       "<div>\n",
       "<style scoped>\n",
       "    .dataframe tbody tr th:only-of-type {\n",
       "        vertical-align: middle;\n",
       "    }\n",
       "\n",
       "    .dataframe tbody tr th {\n",
       "        vertical-align: top;\n",
       "    }\n",
       "\n",
       "    .dataframe thead th {\n",
       "        text-align: right;\n",
       "    }\n",
       "</style>\n",
       "<table border=\"1\" class=\"dataframe\">\n",
       "  <thead>\n",
       "    <tr style=\"text-align: right;\">\n",
       "      <th></th>\n",
       "      <th>article_id</th>\n",
       "      <th>title</th>\n",
       "      <th>user_id</th>\n",
       "    </tr>\n",
       "  </thead>\n",
       "  <tbody>\n",
       "    <tr>\n",
       "      <th>0</th>\n",
       "      <td>1430</td>\n",
       "      <td>using pixiedust for fast, flexible, and easier...</td>\n",
       "      <td>1</td>\n",
       "    </tr>\n",
       "    <tr>\n",
       "      <th>1</th>\n",
       "      <td>1314</td>\n",
       "      <td>healthcare python streaming application demo</td>\n",
       "      <td>2</td>\n",
       "    </tr>\n",
       "    <tr>\n",
       "      <th>2</th>\n",
       "      <td>1429</td>\n",
       "      <td>use deep learning for image classification</td>\n",
       "      <td>3</td>\n",
       "    </tr>\n",
       "    <tr>\n",
       "      <th>3</th>\n",
       "      <td>1338</td>\n",
       "      <td>ml optimization using cognitive assistant</td>\n",
       "      <td>4</td>\n",
       "    </tr>\n",
       "    <tr>\n",
       "      <th>4</th>\n",
       "      <td>1276</td>\n",
       "      <td>deploy your python model as a restful api</td>\n",
       "      <td>5</td>\n",
       "    </tr>\n",
       "  </tbody>\n",
       "</table>\n",
       "</div>"
      ],
      "text/plain": [
       "   article_id                                              title  user_id\n",
       "0        1430  using pixiedust for fast, flexible, and easier...        1\n",
       "1        1314       healthcare python streaming application demo        2\n",
       "2        1429         use deep learning for image classification        3\n",
       "3        1338          ml optimization using cognitive assistant        4\n",
       "4        1276          deploy your python model as a restful api        5"
      ]
     },
     "metadata": {},
     "output_type": "display_data"
    }
   ],
   "source": [
    "df[\"user_id\"] = email_mapper(df, \"email\")\n",
    "df = df.drop(columns=[\"email\"])\n",
    "\n",
    "# show header\n",
    "ICD.display(df.head())\n"
   ]
  },
  {
   "cell_type": "code",
   "execution_count": 16,
   "metadata": {
    "collapsed": true
   },
   "outputs": [
    {
     "name": "stdout",
     "output_type": "stream",
     "text": [
      "It looks like you have everything right here! Nice job!\n"
     ]
    }
   ],
   "source": [
    "sol_1_dict = {\n",
    "    \"`50% of individuals have _____ or fewer interactions.`\": median_val,\n",
    "    \"`The total number of user-article interactions in the dataset is ______.`\": user_article_interactions,\n",
    "    \"`The maximum number of user-article interactions by any 1 user is ______.`\": max_views_by_user,\n",
    "    \"`The most viewed article in the dataset was viewed _____ times.`\": max_views,\n",
    "    \"`The article_id of the most viewed article is ______.`\": most_viewed_article_id,\n",
    "    \"`The number of unique articles that have at least 1 rating ______.`\": unique_articles,\n",
    "    \"`The number of unique users in the dataset is ______`\": unique_users,\n",
    "    \"`The number of unique articles on the IBM platform`\": total_articles,\n",
    "}\n",
    "\n",
    "# Test your dictionary against the solution\n",
    "t.sol_1_test(sol_1_dict)\n"
   ]
  },
  {
   "attachments": {},
   "cell_type": "markdown",
   "metadata": {},
   "source": [
    "### <a class=\"anchor\" id=\"Rank\">Part II: Rank-Based Recommendations</a>\n",
    "\n",
    "Unlike in the earlier lessons, we don't actually have ratings for whether a user liked an article or not. We only know that a user has interacted with an article. In these cases, the popularity of an article can really only be based on how often an article was interacted with.\n",
    "\n",
    "`1.` Fill in the function below to return the **n** top articles ordered with most interactions as the top. Test your function using the tests below.\n"
   ]
  },
  {
   "cell_type": "code",
   "execution_count": 17,
   "metadata": {
    "collapsed": true
   },
   "outputs": [],
   "source": [
    "def get_top_articles(df: pd.DataFrame, n: int = 10) -> Iterable[str]:\n",
    "    \"\"\"\n",
    "    Return top articles titles by popularity (how often it has been interacted with).\n",
    "\n",
    "    Args:\n",
    "        df: Dataframe containing article-user interactions.\n",
    "        n: Number of top articles to return.\n",
    "\n",
    "    Returns:\n",
    "        A list of the top 'n' article titles\n",
    "    \"\"\"\n",
    "    # Your code here\n",
    "    return df.groupby(\"title\").count().iloc[:, 0].sort_values().iloc[-n:].index.tolist()\n",
    "\n",
    "\n",
    "def get_top_article_ids(df: pd.DataFrame, n: int = 10) -> Iterable[str]:\n",
    "    \"\"\"\n",
    "    Return top articles IDs by popularity (how often it has been interacted with).\n",
    "\n",
    "    Args:\n",
    "        df: Dataframe containing article-user interactions.\n",
    "        n: Number of top articles to return.\n",
    "\n",
    "    Returns:\n",
    "        A list of the top 'n' article IDs\n",
    "    \"\"\"\n",
    "    return (\n",
    "        df.groupby(\"article_id\")\n",
    "        .count()\n",
    "        .iloc[:, 0]\n",
    "        .sort_values()\n",
    "        .iloc[-n:]\n",
    "        .index.tolist()\n",
    "    )\n"
   ]
  },
  {
   "cell_type": "code",
   "execution_count": 18,
   "metadata": {
    "collapsed": true
   },
   "outputs": [
    {
     "name": "stdout",
     "output_type": "stream",
     "text": [
      "['gosales transactions for logistic regression model', 'analyze energy consumption in buildings', 'apache spark lab, part 1: basic concepts', 'finding optimal locations of new store using decision optimization', 'healthcare python streaming application demo', 'predicting churn with the spss random tree algorithm', 'use xgboost, scikit-learn & ibm watson machine learning apis', 'visualize car data with brunel', 'insights from new york car accident reports', 'use deep learning for image classification']\n",
      "[1304, 1162, 1170, 1293, 1314, 1364, 1427, 1431, 1330, 1429]\n"
     ]
    }
   ],
   "source": [
    "print(get_top_articles(df, 10))\n",
    "print(get_top_article_ids(df, 10))\n"
   ]
  },
  {
   "cell_type": "code",
   "execution_count": 19,
   "metadata": {
    "collapsed": true
   },
   "outputs": [
    {
     "name": "stdout",
     "output_type": "stream",
     "text": [
      "Your top_5 looks like the solution list! Nice job.\n",
      "Your top_10 looks like the solution list! Nice job.\n",
      "Your top_20 looks like the solution list! Nice job.\n"
     ]
    }
   ],
   "source": [
    "# Test each of your three lists from above\n",
    "t.sol_2_test(get_top_articles)\n"
   ]
  },
  {
   "attachments": {},
   "cell_type": "markdown",
   "metadata": {},
   "source": [
    "### <a class=\"anchor\" id=\"User-User\">Part III: User-User Based Collaborative Filtering</a>\n",
    "\n",
    "`1.` Use the function below to reformat the **df** dataframe to be shaped with users as the rows and articles as the columns.\n",
    "\n",
    "- Each **user** should only appear in each **row** once.\n",
    "\n",
    "- Each **article** should only show up in one **column**.\n",
    "\n",
    "- **If a user has interacted with an article, then place a 1 where the user-row meets for that article-column**. It does not matter how many times a user has interacted with the article, all entries where a user has interacted with an article should be a 1.\n",
    "\n",
    "- **If a user has not interacted with an item, then place a zero where the user-row meets for that article-column**.\n",
    "\n",
    "Use the tests to make sure the basic structure of your matrix matches what is expected by the solution.\n"
   ]
  },
  {
   "cell_type": "code",
   "execution_count": 20,
   "metadata": {
    "collapsed": true
   },
   "outputs": [],
   "source": [
    "def create_user_item_matrix(df: pd.DataFrame) -> pd.DataFrame:\n",
    "    \"\"\"\n",
    "    Return a matrix with user ids as rows and article ids on the columns with\n",
    "        1 values where a user interacted with an article and a 0 otherwise\n",
    "\n",
    "    Args:\n",
    "        df: pandas dataframe with article_id, title, user_id columns\n",
    "\n",
    "    Returns:\n",
    "        A user-item matrix\n",
    "\n",
    "    \"\"\"\n",
    "    return pd.crosstab(df[\"user_id\"], df[\"article_id\"]).astype(bool).astype(int)\n"
   ]
  },
  {
   "cell_type": "code",
   "execution_count": 21,
   "metadata": {},
   "outputs": [],
   "source": [
    "user_item = create_user_item_matrix(df)\n"
   ]
  },
  {
   "cell_type": "code",
   "execution_count": 22,
   "metadata": {
    "collapsed": true
   },
   "outputs": [
    {
     "name": "stdout",
     "output_type": "stream",
     "text": [
      "You have passed our quick tests!  Please proceed!\n"
     ]
    }
   ],
   "source": [
    "## Tests: You should just need to run this cell.  Don't change the code.\n",
    "assert (\n",
    "    user_item.shape[0] == 5149\n",
    "), \"Oops!  The number of users in the user-article matrix doesn't look right.\"\n",
    "assert (\n",
    "    user_item.shape[1] == 714\n",
    "), \"Oops!  The number of articles in the user-article matrix doesn't look right.\"\n",
    "assert (\n",
    "    user_item.sum(axis=1)[1] == 36\n",
    "), \"Oops!  The number of articles seen by user 1 doesn't look right.\"\n",
    "print(\"You have passed our quick tests!  Please proceed!\")\n"
   ]
  },
  {
   "attachments": {},
   "cell_type": "markdown",
   "metadata": {},
   "source": [
    "`2.` Complete the function below which should take a user_id and provide an ordered list of the most similar users to that user (from most similar to least similar). The returned result should not contain the provided user_id, as we know that each user is similar to him/herself. Because the results for each user here are binary, it (perhaps) makes sense to compute similarity as the dot product of two users.\n",
    "\n",
    "Use the tests to test your function.\n"
   ]
  },
  {
   "cell_type": "code",
   "execution_count": 23,
   "metadata": {
    "collapsed": true
   },
   "outputs": [],
   "source": [
    "def find_similar_users(user_id: int, user_item: pd.DataFrame) -> Iterable[int]:\n",
    "    \"\"\"Find the most similar users to a given one in the user-item matrix. Computes the\n",
    "        similarity of every pair of users based on the dot product.\n",
    "\n",
    "    Args:\n",
    "        user_id: User ID to compare to the rest.\n",
    "        user_item: User-item dataframe.\n",
    "\n",
    "    Returns:\n",
    "        An ordered list where the closest users (largest dot product users) are listed\n",
    "            first.\n",
    "    \"\"\"\n",
    "    return (\n",
    "        user_item.loc[user_id]\n",
    "        .dot(user_item.transpose())\n",
    "        .sort_values(ascending=False)\n",
    "        .drop(user_id, axis=\"index\")\n",
    "        .index.tolist()\n",
    "    )\n"
   ]
  },
  {
   "cell_type": "code",
   "execution_count": 24,
   "metadata": {
    "collapsed": true
   },
   "outputs": [
    {
     "name": "stdout",
     "output_type": "stream",
     "text": [
      "The 10 most similar users to user 1 are: [3933, 23, 3782, 203, 4459, 3870, 131, 4201, 46, 5041]\n",
      "The 5 most similar users to user 3933 are: [1, 23, 3782, 203, 4459]\n",
      "The 3 most similar users to user 46 are: [4201, 3782, 23]\n"
     ]
    }
   ],
   "source": [
    "# Do a spot check of your function\n",
    "print(\n",
    "    \"The 10 most similar users to user 1 are: {}\".format(\n",
    "        find_similar_users(1, user_item)[:10]\n",
    "    )\n",
    ")\n",
    "print(\n",
    "    \"The 5 most similar users to user 3933 are: {}\".format(\n",
    "        find_similar_users(3933, user_item)[:5]\n",
    "    )\n",
    ")\n",
    "print(\n",
    "    \"The 3 most similar users to user 46 are: {}\".format(\n",
    "        find_similar_users(46, user_item)[:3]\n",
    "    )\n",
    ")\n"
   ]
  },
  {
   "attachments": {},
   "cell_type": "markdown",
   "metadata": {},
   "source": [
    "`3.` Now that you have a function that provides the most similar users to each user, you will want to use these users to find articles you can recommend. Complete the functions below to return the articles you would recommend to each user.\n"
   ]
  },
  {
   "cell_type": "code",
   "execution_count": 25,
   "metadata": {
    "collapsed": true
   },
   "outputs": [],
   "source": [
    "def get_article_names(article_ids: Iterable[int], df: pd.DataFrame) -> Iterable[str]:\n",
    "    \"\"\"Given a list of article IDs, get their names (titles).\n",
    "\n",
    "    Args:\n",
    "        article_ids: A list of article IDs.\n",
    "        df: pandas dataframe with article_id, title, user_id columns\n",
    "\n",
    "    Returns:\n",
    "        A list of article names associated with the list of article ids (this is\n",
    "            identified by the title column)\n",
    "    \"\"\"\n",
    "    return (\n",
    "        df.set_index(\"article_id\").loc[article_ids, \"title\"].drop_duplicates().tolist()\n",
    "    )\n",
    "\n",
    "\n",
    "def get_user_articles(\n",
    "    user_id: int, user_item: pd.DataFrame, df: pd.DataFrame\n",
    ") -> Tuple[Iterable[int], Iterable[str]]:\n",
    "    \"\"\"Provides a list of the article_ids and article titles that have been seen by a\n",
    "        user.\n",
    "\n",
    "    Args:\n",
    "        user_id: A user ID.\n",
    "        user_item: Matrix of users by articles: 1's when a user has interacted with an\n",
    "            article, 0 otherwise\n",
    "        df: pandas dataframe with article_id, title, user_id columns\n",
    "\n",
    "    Returns:\n",
    "        - A list of the article ids seen by the user.\n",
    "        - A list of article names associated with the list of article ids.\n",
    "    \"\"\"\n",
    "    if user_id not in user_item.index:\n",
    "        return [], []\n",
    "\n",
    "    article_ids = user_item.columns[user_item.loc[user_id] == 1].tolist()\n",
    "    return article_ids, get_article_names(article_ids, df)\n",
    "\n",
    "\n",
    "def user_user_recs(\n",
    "    user_id: int, user_item: pd.DataFrame, df: pd.DataFrame, m: int = 10\n",
    ") -> Iterable[str]:\n",
    "    \"\"\"Loops through the users based on closeness to the input user_id\n",
    "        For each user - finds articles the user hasn't seen before and provides them as\n",
    "        recs. Does this until m recommendations are found.\n",
    "\n",
    "    Notes:\n",
    "        Users who are the same closeness are chosen arbitrarily as the 'next' user.\n",
    "\n",
    "        For the user where the number of recommended articles starts below m\n",
    "        and ends exceeding m, the last items are chosen arbitrarily.\n",
    "\n",
    "    Args:\n",
    "        user_id: A user ID.\n",
    "        user_item: Matrix of users by articles: 1's when a user has interacted with an\n",
    "            article, 0 otherwise\n",
    "        df: pandas dataframe with article_id, title, user_id columns\n",
    "        m: the number of recommendations you want for the user\n",
    "\n",
    "    OUTPUT:\n",
    "        A list of recommendations for the user.\n",
    "    \"\"\"\n",
    "    # 1. Get closest users\n",
    "    closest_users = find_similar_users(user_id, user_item)\n",
    "\n",
    "    # 2. Loop through closest users to find up to M recommendations\n",
    "    recs = []\n",
    "    user_articles_ids = get_user_articles(user_id, user_item, df)[0]\n",
    "    for similar_user in closest_users:\n",
    "        distinct_articles = [\n",
    "            article_id\n",
    "            for article_id in get_user_articles(similar_user, user_item, df)[0]\n",
    "            if article_id not in user_articles_ids + recs\n",
    "        ]\n",
    "        recs.extend(distinct_articles[: min(len(distinct_articles), m - len(recs))])\n",
    "\n",
    "        if len(recs) >= m:\n",
    "            return recs\n"
   ]
  },
  {
   "cell_type": "code",
   "execution_count": 26,
   "metadata": {
    "collapsed": true
   },
   "outputs": [
    {
     "data": {
      "text/plain": [
       "['this week in data science (april 18, 2017)',\n",
       " 'timeseries data analysis of iot events by using jupyter notebook',\n",
       " 'got zip code data? prep it for analytics. – ibm watson data lab – medium',\n",
       " 'higher-order logistic regression for large datasets',\n",
       " 'using machine learning to predict parking difficulty',\n",
       " 'deep forest: towards an alternative to deep neural networks',\n",
       " 'experience iot with coursera',\n",
       " 'using brunel in ipython/jupyter notebooks',\n",
       " 'graph-based machine learning',\n",
       " 'the 3 kinds of context: machine learning and the art of the frame']"
      ]
     },
     "execution_count": 26,
     "metadata": {},
     "output_type": "execute_result"
    }
   ],
   "source": [
    "# Return 10 recommendations for user 1\n",
    "get_article_names(user_user_recs(1, user_item, df, 10), df)\n"
   ]
  },
  {
   "cell_type": "code",
   "execution_count": 27,
   "metadata": {
    "collapsed": true
   },
   "outputs": [
    {
     "name": "stdout",
     "output_type": "stream",
     "text": [
      "If this is all you see, you passed all of our tests!  Nice job!\n"
     ]
    }
   ],
   "source": [
    "# Test your functions here - No need to change this code - just run this cell\n",
    "assert set(get_article_names([1024, 1176, 1305, 1314, 1422, 1427], df)) == set(\n",
    "    [\n",
    "        \"using deep learning to reconstruct high-resolution audio\",\n",
    "        \"build a python app on the streaming analytics service\",\n",
    "        \"gosales transactions for naive bayes model\",\n",
    "        \"healthcare python streaming application demo\",\n",
    "        \"use r dataframes & ibm watson natural language understanding\",\n",
    "        \"use xgboost, scikit-learn & ibm watson machine learning apis\",\n",
    "    ]\n",
    "), \"Oops! Your the get_article_names function doesn't work quite how we expect.\"\n",
    "assert set(get_article_names([1320, 232, 844], df)) == set(\n",
    "    [\n",
    "        \"housing (2015): united states demographic measures\",\n",
    "        \"self-service data preparation with ibm data refinery\",\n",
    "        \"use the cloudant-spark connector in python notebook\",\n",
    "    ]\n",
    "), \"Oops! Your the get_article_names function doesn't work quite how we expect.\"\n",
    "assert set(get_user_articles(20, user_item, df)[0]) == set([1320, 232, 844])\n",
    "assert set(get_user_articles(20, user_item, df)[1]) == set(\n",
    "    [\n",
    "        \"housing (2015): united states demographic measures\",\n",
    "        \"self-service data preparation with ibm data refinery\",\n",
    "        \"use the cloudant-spark connector in python notebook\",\n",
    "    ]\n",
    ")\n",
    "assert set(get_user_articles(2, user_item, df)[0]) == set(\n",
    "    [1024, 1176, 1305, 1314, 1422, 1427]\n",
    ")\n",
    "assert set(get_user_articles(2, user_item, df)[1]) == set(\n",
    "    [\n",
    "        \"using deep learning to reconstruct high-resolution audio\",\n",
    "        \"build a python app on the streaming analytics service\",\n",
    "        \"gosales transactions for naive bayes model\",\n",
    "        \"healthcare python streaming application demo\",\n",
    "        \"use r dataframes & ibm watson natural language understanding\",\n",
    "        \"use xgboost, scikit-learn & ibm watson machine learning apis\",\n",
    "    ]\n",
    ")\n",
    "print(\"If this is all you see, you passed all of our tests!  Nice job!\")\n"
   ]
  },
  {
   "attachments": {},
   "cell_type": "markdown",
   "metadata": {},
   "source": [
    "`4.` Now we are going to improve the consistency of the **user_user_recs** function from above.\n",
    "\n",
    "- Instead of arbitrarily choosing when we obtain users who are all the same closeness to a given user - choose the users that have the most total article interactions before choosing those with fewer article interactions.\n",
    "\n",
    "- Instead of arbitrarily choosing articles from the user where the number of recommended articles starts below m and ends exceeding m, choose articles with the articles with the most total interactions before choosing those with fewer total interactions. This ranking should be what would be obtained from the **top_articles** function you wrote earlier.\n"
   ]
  },
  {
   "cell_type": "code",
   "execution_count": 28,
   "metadata": {
    "collapsed": true
   },
   "outputs": [],
   "source": [
    "from typing import Tuple\n",
    "\n",
    "\n",
    "def get_top_sorted_users(\n",
    "    user_id: int, df: pd.DataFrame, user_item: pd.DataFrame\n",
    ") -> pd.DataFrame:\n",
    "    \"\"\"Generate neighbour dataframe with the following information:\n",
    "        - neighbor_id - is a neighbor user_id\n",
    "        - similarity - measure of the similarity of each user to the provided user_id.\n",
    "        - num_interactions - the number of articles viewed by the user.\n",
    "\n",
    "    Sort the neighbors_df by the similarity and then by number of interactions where\n",
    "        highest of each is higher in the dataframe.\n",
    "\n",
    "    Args:\n",
    "        user_id: User ID.\n",
    "        df: pandas dataframe with article_id, title, user_id columns.\n",
    "        user_item: Matrix of users by articles: 1's when a user has interacted with an\n",
    "            article, 0 otherwise.\n",
    "\n",
    "    Returns:\n",
    "        Neighbours dataframe.\n",
    "    \"\"\"\n",
    "    # 1. Get similarity with other users (based on dot product)\n",
    "    neighbors_df = (\n",
    "        user_item.loc[user_id]\n",
    "        .dot(user_item.transpose())\n",
    "        .sort_values(ascending=False)\n",
    "        .drop(user_id, axis=\"index\")\n",
    "        .rename(\"similarity\")\n",
    "        .rename_axis(\"neighbor_id\")\n",
    "        .to_frame()\n",
    "    )\n",
    "\n",
    "    # 2. Add number of interactions per neighbor\n",
    "    neighbors_df[\"num_interactions\"] = (\n",
    "        df.groupby(\"user_id\").count().iloc[:, 0].loc[neighbors_df.index]\n",
    "    )\n",
    "\n",
    "    # 3. Sort by similarity and interactions\n",
    "    neighbors_df = neighbors_df.sort_values(\n",
    "        [\"similarity\", \"num_interactions\"], ascending=False\n",
    "    )\n",
    "\n",
    "    return neighbors_df\n",
    "\n",
    "\n",
    "def user_user_recs_part2(\n",
    "    user_id: int, df: pd.DataFrame, user_item: pd.DataFrame, m: int = 10\n",
    ") -> Tuple[Iterable[int], Iterable[str]]:\n",
    "    \"\"\"Loops through the users based on closeness to the input user_id. For each user,\n",
    "        finds articles the user hasn't seen before and provides them as recs. Does this\n",
    "        until m recommendations are found.\n",
    "\n",
    "    Notes:\n",
    "        * Choose the users that have the most total article interactions before choosing\n",
    "            those with fewer article interactions.\n",
    "        * Choose articles with the articles with the most total interactions before\n",
    "            choosing those with fewer total interactions.\n",
    "\n",
    "    Args:\n",
    "        user_id: User ID.\n",
    "        df: pandas dataframe with article_id, title, user_id columns.\n",
    "        user_item: Matrix of users by articles: 1's when a user has interacted with an\n",
    "            article, 0 otherwise.\n",
    "        m: The number of recommendations you want for the user.\n",
    "\n",
    "    Returns:\n",
    "        A list of recommendations for the user by article id.\n",
    "        A list of recommendations for the user by article title.\n",
    "    \"\"\"\n",
    "    # 1. Get sorted users\n",
    "    neighbors_df = get_top_sorted_users(user_id, df, user_item)\n",
    "\n",
    "    # 2. Loop through closest users to find up to M recommendations\n",
    "    recs = []\n",
    "    user_articles_ids = get_user_articles(user_id, user_item, df)[0]\n",
    "    for similar_user in neighbors_df.index:\n",
    "        # 2.1. Find article IDs the current user hasn't seen that other close user has\n",
    "        distinct_articles_ids = [\n",
    "            article_id\n",
    "            for article_id in get_user_articles(similar_user, user_item, df)[0]\n",
    "            if article_id not in user_articles_ids + recs\n",
    "        ]\n",
    "\n",
    "        # 2.2. Sort distinct articles by number of interactions\n",
    "        sorted_ids = (\n",
    "            user_item.loc[:, distinct_articles_ids]\n",
    "            .sum()\n",
    "            .sort_values(ascending=False)\n",
    "            .index.tolist()\n",
    "        )\n",
    "\n",
    "        recs.extend(sorted_ids[: min(len(sorted_ids), m - len(recs))])\n",
    "\n",
    "        if len(recs) >= m:\n",
    "            return recs, get_article_names(recs, df)\n"
   ]
  },
  {
   "cell_type": "code",
   "execution_count": 29,
   "metadata": {
    "collapsed": true
   },
   "outputs": [
    {
     "name": "stdout",
     "output_type": "stream",
     "text": [
      "The top 10 recommendations for user 20 are the following article ids:\n",
      "[1330, 1364, 1427, 1160, 1351, 1336, 1304, 1368, 1170, 1338]\n",
      "\n",
      "The top 10 recommendations for user 20 are the following article names:\n",
      "['insights from new york car accident reports', 'predicting churn with the spss random tree algorithm', 'use xgboost, scikit-learn & ibm watson machine learning apis', 'analyze accident reports on amazon emr spark', 'model bike sharing data with spss', 'learn basics about notebooks and apache spark', 'gosales transactions for logistic regression model', 'putting a human face on machine learning', 'apache spark lab, part 1: basic concepts', 'ml optimization using cognitive assistant']\n"
     ]
    }
   ],
   "source": [
    "rec_ids, rec_names = user_user_recs_part2(20, df, user_item, m=10)\n",
    "print(\"The top 10 recommendations for user 20 are the following article ids:\")\n",
    "print(rec_ids)\n",
    "print()\n",
    "print(\"The top 10 recommendations for user 20 are the following article names:\")\n",
    "print(rec_names)\n"
   ]
  },
  {
   "attachments": {},
   "cell_type": "markdown",
   "metadata": {},
   "source": [
    "`5.` Use your functions from above to correctly fill in the solutions to the dictionary below. Then test your dictionary against the solution. Provide the code you need to answer each following the comments below.\n"
   ]
  },
  {
   "cell_type": "code",
   "execution_count": 30,
   "metadata": {
    "collapsed": true
   },
   "outputs": [
    {
     "name": "stdout",
     "output_type": "stream",
     "text": [
      "The user that is most similar to user 1 is: 3933\n",
      "The 10th most similar user to user 131 is: 242\n"
     ]
    }
   ],
   "source": [
    "user1_most_sim = get_top_sorted_users(1, df, user_item).iloc[0].name\n",
    "print(f\"The user that is most similar to user 1 is: {user1_most_sim}\")\n",
    "user131_10th_sim = get_top_sorted_users(131, df, user_item).iloc[9].name\n",
    "print(f\"The 10th most similar user to user 131 is: {user131_10th_sim}\")\n"
   ]
  },
  {
   "cell_type": "code",
   "execution_count": 31,
   "metadata": {
    "collapsed": true
   },
   "outputs": [
    {
     "name": "stdout",
     "output_type": "stream",
     "text": [
      "This all looks good!  Nice job!\n"
     ]
    }
   ],
   "source": [
    "## Dictionary Test Here\n",
    "sol_5_dict = {\n",
    "    \"The user that is most similar to user 1.\": user1_most_sim,\n",
    "    \"The user that is the 10th most similar to user 131\": user131_10th_sim,\n",
    "}\n",
    "\n",
    "t.sol_5_test(sol_5_dict)\n"
   ]
  },
  {
   "attachments": {},
   "cell_type": "markdown",
   "metadata": {},
   "source": [
    "`6.` If we were given a new user, which of the above functions would you be able to use to make recommendations? Explain. Can you think of a better way we might make recommendations? Use the cell below to explain a better method for new users.\n"
   ]
  },
  {
   "attachments": {},
   "cell_type": "markdown",
   "metadata": {},
   "source": [
    "Since we have no information about this new user, we can use `get_top_articles` or `get_top_article_ids` to suggest the articles most commonly viewed by the existing users.\n",
    "\n",
    "Alternatively, if we knew which genres our new user prefers, we could suggest the top articles in that category.\n"
   ]
  },
  {
   "attachments": {},
   "cell_type": "markdown",
   "metadata": {},
   "source": [
    "`7.` Using your existing functions, provide the top 10 recommended articles you would provide for the a new user below. You can test your function against our thoughts to make sure we are all on the same page with how we might make a recommendation.\n"
   ]
  },
  {
   "cell_type": "code",
   "execution_count": 32,
   "metadata": {
    "collapsed": true
   },
   "outputs": [],
   "source": [
    "new_user = \"0.0\"\n",
    "new_user_recs = get_top_article_ids(df, 10)\n"
   ]
  },
  {
   "cell_type": "code",
   "execution_count": 33,
   "metadata": {
    "collapsed": true
   },
   "outputs": [
    {
     "name": "stdout",
     "output_type": "stream",
     "text": [
      "That's right!  Nice job!\n"
     ]
    }
   ],
   "source": [
    "assert set(new_user_recs) == set(\n",
    "    [\n",
    "        1314,\n",
    "        1429,\n",
    "        1293,\n",
    "        1427,\n",
    "        1162,\n",
    "        1364,\n",
    "        1304,\n",
    "        1170,\n",
    "        1431,\n",
    "        1330,\n",
    "    ]\n",
    "), (\n",
    "    \"Oops!  It makes sense that in this case we would want to recommend the most\"\n",
    "    \" popular articles, because we don't know anything about these users.\"\n",
    ")\n",
    "\n",
    "print(\"That's right!  Nice job!\")\n"
   ]
  },
  {
   "attachments": {},
   "cell_type": "markdown",
   "metadata": {},
   "source": [
    "### <a class=\"anchor\" id=\"Content-Recs\">Part IV: Content Based Recommendations</a>\n",
    "\n",
    "Another method we might use to make recommendations is to perform a ranking of the highest ranked articles associated with some term. You might consider content to be the **doc_body**, **doc_description**, or **doc_full_name**. There isn't one way to create a content based recommendation, especially considering that each of these columns hold content related information.\n",
    "\n",
    "`1.` Use the function body below to create a content based recommender. Since there isn't one right answer for this recommendation tactic, no test functions are provided. Feel free to change the function inputs if you decide you want to try a method that requires more input values. The input values are currently set with one idea in mind that you may use to make content based recommendations. One additional idea is that you might want to choose the most popular recommendations that meet your 'content criteria', but again, there is a lot of flexibility in how you might make these recommendations.\n"
   ]
  },
  {
   "cell_type": "code",
   "execution_count": 34,
   "metadata": {},
   "outputs": [],
   "source": [
    "def tokenize(text: str) -> Iterable[str]:\n",
    "    \"\"\"Pre-process text into lemmatized tokens.\n",
    "\n",
    "    Args:\n",
    "        text: Text to process.\n",
    "\n",
    "    Returns:\n",
    "        Iterable of lemmatized tokens.\n",
    "    \"\"\"\n",
    "    # 0. Setup\n",
    "    url_regex = (\n",
    "        r\"http[s]?://(?:[a-zA-Z]|[0-9]|[$-_@.&+]|[!*\\(\\),]|(?:%[0-9a-fA-F]\"\n",
    "        r\"[0-9a-fA-F]))+\"\n",
    "    )\n",
    "    non_alphanum_regex = r\"[^a-z0-9]\"\n",
    "\n",
    "    # 1. Replace URLs\n",
    "    text = re.sub(url_regex, \" \", text)\n",
    "\n",
    "    # 2. Replace non-alphanumeric characters\n",
    "    text = re.sub(non_alphanum_regex, \" \", text.lower())\n",
    "\n",
    "    # 3. Tokenize and lemmatize text\n",
    "    lemmatizer = WordNetLemmatizer()\n",
    "    tokens = [\n",
    "        lemmatizer.lemmatize(lemmatizer.lemmatize(token), pos=\"v\")\n",
    "        for token in word_tokenize(text)\n",
    "        if token not in stopwords.words(\"english\")\n",
    "    ]\n",
    "\n",
    "    return tokens\n",
    "\n",
    "\n",
    "def get_tfidf_matrix(df: pd.DataFrame, tokenizer: Callable) -> pd.DataFrame:\n",
    "    \"\"\"Compute the TF-IDF features for each article a user has interacted with,\n",
    "        based on their title.\n",
    "\n",
    "    Args:\n",
    "        df: pandas dataframe with article_id, title, user_id columns.\n",
    "\n",
    "    Returns:\n",
    "        TF-IDF matrix of articles based on their title.\n",
    "    \"\"\"\n",
    "    # 1. Ensure unique article ids\n",
    "    df_pruned = deepcopy(df).drop_duplicates(subset=[\"title\"])\n",
    "\n",
    "    # 2. Vectorize article titles\n",
    "    vectorizer = TfidfVectorizer()\n",
    "    tfidf_matrix = vectorizer.fit_transform(df_pruned[\"title\"])\n",
    "\n",
    "    # 3. To pandas dataframe and return\n",
    "    return pd.DataFrame(\n",
    "        tfidf_matrix.toarray(),\n",
    "        index=df_pruned[\"article_id\"],\n",
    "        columns=vectorizer.vocabulary_,\n",
    "    )\n",
    "\n",
    "\n",
    "def make_content_recs(\n",
    "    user_id: int,\n",
    "    df: pd.DataFrame,\n",
    "    user_item: pd.DataFrame,\n",
    "    tfidf_matrix: pd.DataFrame,\n",
    "    m: int = 10,\n",
    ") -> Tuple[Iterable[int], Iterable[str]]:\n",
    "    \"\"\"Given a user, find the most similar unseen articles to the ones already read.\n",
    "    If user has no articles read, then return the most popular articles.\n",
    "\n",
    "\n",
    "    Args:\n",
    "        user_id: User ID.\n",
    "        df: pandas dataframe with article_id, title, user_id columns.\n",
    "        user_item: Matrix of users by articles: 1's when a user has interacted with an\n",
    "            article, 0 otherwise.\n",
    "        tfidf_matrix: TF-IDF matrix of articles based on their title.\n",
    "        m: The number of recommendations you want for the user.\n",
    "\n",
    "    Returns:\n",
    "        A list of recommendations for the user by article id.\n",
    "        A list of recommendations for the user by article title.\n",
    "    \"\"\"\n",
    "    # 1. Get articles intereacted with by user\n",
    "    user_articles_ids = get_user_articles(user_id, user_item, df)[0]\n",
    "\n",
    "    # 2. Get article recommendations for user\n",
    "    if len(user_articles_ids) == 0:\n",
    "        print(f\"User {user_id} has no articles. Returning the most popular ones.\")\n",
    "        article_ids = get_top_article_ids(df, n=m)\n",
    "    else:\n",
    "        # 2.1. Compute average cosine similarity between user articles and the rest\n",
    "        avg_sim = cosine_similarity(\n",
    "            tfidf_matrix.loc[user_articles_ids, :], tfidf_matrix\n",
    "        ).mean(axis=0)\n",
    "\n",
    "        # 2.2. Sort in descending order, return top 10 article ids\n",
    "        avg_sim_sorted = (\n",
    "            pd.Series(avg_sim.mean(axis=0), index=tfidf_matrix.index)\n",
    "            .drop(user_articles_ids)\n",
    "            .sort_values(ascending=False)\n",
    "        )\n",
    "        article_ids = avg_sim_sorted.iloc[:m].index.tolist()\n",
    "\n",
    "    return article_ids, get_article_names(article_ids, df)\n"
   ]
  },
  {
   "cell_type": "code",
   "execution_count": 35,
   "metadata": {},
   "outputs": [],
   "source": [
    "tfidf_matrix = get_tfidf_matrix(df, tokenize)\n"
   ]
  },
  {
   "cell_type": "code",
   "execution_count": 36,
   "metadata": {},
   "outputs": [
    {
     "data": {
      "text/plain": [
       "([1430, 1346, 1308, 1073, 258, 1443, 599, 569, 1085, 948],\n",
       " ['using pixiedust for fast, flexible, and easier data analysis and experimentation',\n",
       "  'military expenditure as % of gdp by country',\n",
       "  'gross national income per capita, atlas method (current us$) by country',\n",
       "  'airbnb data for analytics: barcelona listings',\n",
       "  'open sourcing 223gb of driving data – udacity inc',\n",
       "  'worldwide electricity demand and production 1990-2012',\n",
       "  'random forest interpretation – conditional feature contributions',\n",
       "  'how can data scientists collaborate to build better business',\n",
       "  'airbnb data for analytics: chicago listings',\n",
       "  'what is systemml? why is it relevant to you?'])"
      ]
     },
     "execution_count": 36,
     "metadata": {},
     "output_type": "execute_result"
    }
   ],
   "source": [
    "make_content_recs(5149, df, user_item, tfidf_matrix, 10)\n"
   ]
  },
  {
   "attachments": {},
   "cell_type": "markdown",
   "metadata": {},
   "source": [
    "`2.` Now that you have put together your content-based recommendation system, use the cell below to write a summary explaining how your content based recommender works. Do you see any possible improvements that could be made to your function? Is there anything novel about your content based recommender?\n"
   ]
  },
  {
   "attachments": {},
   "cell_type": "markdown",
   "metadata": {},
   "source": [
    "I have implemented a simple content-based recommendation system based on TF-IDF feature vectors (obtained from articles' titles). To generate recommendations, the system looks at the articles already interacted with for the user in question. Then, the cosine similarity metric is calculated between the articles already viewed by the user and any other. The system returns as recommendations the IDs and titles of the articles with the highest cosine similarity.\n",
    "\n",
    "This is a naive method solely based on title information. Since we don't have information for all articles from `df` in `df_conent`, I used article title in `df` for simplicity and completeness. Ideally, instead of the title, I would use the content or description of the article to generate the TF-IDF vectors. Naturally, many other options for the text features are possible, such as `doc2vec`.\n"
   ]
  },
  {
   "attachments": {},
   "cell_type": "markdown",
   "metadata": {},
   "source": [
    "`3.` Use your content-recommendation system to make recommendations for the below scenarios based on the comments. Again no tests are provided here, because there isn't one right answer that could be used to find these content based recommendations.\n"
   ]
  },
  {
   "attachments": {},
   "cell_type": "markdown",
   "metadata": {},
   "source": [
    "Make recommendations for a brand new user\n"
   ]
  },
  {
   "cell_type": "code",
   "execution_count": 37,
   "metadata": {},
   "outputs": [
    {
     "name": "stdout",
     "output_type": "stream",
     "text": [
      "User 9999 has no articles. Returning the most popular ones.\n"
     ]
    },
    {
     "data": {
      "text/plain": [
       "([1304, 1162, 1170, 1293, 1314, 1364, 1427, 1431, 1330, 1429],\n",
       " ['gosales transactions for logistic regression model',\n",
       "  'analyze energy consumption in buildings',\n",
       "  'apache spark lab, part 1: basic concepts',\n",
       "  'finding optimal locations of new store using decision optimization',\n",
       "  'healthcare python streaming application demo',\n",
       "  'predicting churn with the spss random tree algorithm',\n",
       "  'use xgboost, scikit-learn & ibm watson machine learning apis',\n",
       "  'visualize car data with brunel',\n",
       "  'insights from new york car accident reports',\n",
       "  'use deep learning for image classification'])"
      ]
     },
     "execution_count": 37,
     "metadata": {},
     "output_type": "execute_result"
    }
   ],
   "source": [
    "make_content_recs(9999, df, user_item, tfidf_matrix, 10)\n"
   ]
  },
  {
   "attachments": {},
   "cell_type": "markdown",
   "metadata": {},
   "source": [
    "Make a recommendations for a user who only has interacted with article id `1427`\n"
   ]
  },
  {
   "cell_type": "code",
   "execution_count": 38,
   "metadata": {
    "collapsed": true
   },
   "outputs": [
    {
     "name": "stdout",
     "output_type": "stream",
     "text": [
      "Showing top 10 recommendations for user: 4209\n"
     ]
    },
    {
     "data": {
      "text/plain": [
       "([1430, 1415, 1085, 948, 89, 62, 1097, 389, 636, 252],\n",
       " ['using pixiedust for fast, flexible, and easier data analysis and experimentation',\n",
       "  'united states demographic measures: income',\n",
       "  'airbnb data for analytics: chicago listings',\n",
       "  'what is systemml? why is it relevant to you?',\n",
       "  'top 20 r machine learning and data science packages',\n",
       "  'data visualization: the importance of excluding unnecessary details',\n",
       "  'airbnb data for analytics: madrid listings',\n",
       "  'apache spark™ 2.0: impressive improvements to spark sql',\n",
       "  'one year as a data scientist at stack overflow',\n",
       "  'web picks (week of 4 september 2017)'])"
      ]
     },
     "execution_count": 38,
     "metadata": {},
     "output_type": "execute_result"
    }
   ],
   "source": [
    "user_id = np.random.choice(user_item[user_item[1427] == 1].index.array)\n",
    "print(f\"Showing top 10 recommendations for user: {user_id}\")\n",
    "make_content_recs(user_id, df, user_item, tfidf_matrix, 10)\n"
   ]
  },
  {
   "attachments": {},
   "cell_type": "markdown",
   "metadata": {},
   "source": [
    "### <a class=\"anchor\" id=\"Matrix-Fact\">Part V: Matrix Factorization</a>\n",
    "\n",
    "In this part of the notebook, you will build use matrix factorization to make article recommendations to the users on the IBM Watson Studio platform.\n",
    "\n",
    "`1.` You should have already created a **user_item** matrix above in **question 1** of **Part III** above. This first question here will just require that you run the cells to get things set up for the rest of **Part V** of the notebook.\n"
   ]
  },
  {
   "cell_type": "code",
   "execution_count": 39,
   "metadata": {
    "collapsed": true
   },
   "outputs": [
    {
     "data": {
      "text/html": [
       "<div>\n",
       "<style scoped>\n",
       "    .dataframe tbody tr th:only-of-type {\n",
       "        vertical-align: middle;\n",
       "    }\n",
       "\n",
       "    .dataframe tbody tr th {\n",
       "        vertical-align: top;\n",
       "    }\n",
       "\n",
       "    .dataframe thead th {\n",
       "        text-align: right;\n",
       "    }\n",
       "</style>\n",
       "<table border=\"1\" class=\"dataframe\">\n",
       "  <thead>\n",
       "    <tr style=\"text-align: right;\">\n",
       "      <th>article_id</th>\n",
       "      <th>0</th>\n",
       "      <th>2</th>\n",
       "      <th>4</th>\n",
       "      <th>8</th>\n",
       "      <th>9</th>\n",
       "      <th>12</th>\n",
       "      <th>14</th>\n",
       "      <th>15</th>\n",
       "      <th>16</th>\n",
       "      <th>18</th>\n",
       "      <th>...</th>\n",
       "      <th>1434</th>\n",
       "      <th>1435</th>\n",
       "      <th>1436</th>\n",
       "      <th>1437</th>\n",
       "      <th>1439</th>\n",
       "      <th>1440</th>\n",
       "      <th>1441</th>\n",
       "      <th>1442</th>\n",
       "      <th>1443</th>\n",
       "      <th>1444</th>\n",
       "    </tr>\n",
       "    <tr>\n",
       "      <th>user_id</th>\n",
       "      <th></th>\n",
       "      <th></th>\n",
       "      <th></th>\n",
       "      <th></th>\n",
       "      <th></th>\n",
       "      <th></th>\n",
       "      <th></th>\n",
       "      <th></th>\n",
       "      <th></th>\n",
       "      <th></th>\n",
       "      <th></th>\n",
       "      <th></th>\n",
       "      <th></th>\n",
       "      <th></th>\n",
       "      <th></th>\n",
       "      <th></th>\n",
       "      <th></th>\n",
       "      <th></th>\n",
       "      <th></th>\n",
       "      <th></th>\n",
       "      <th></th>\n",
       "    </tr>\n",
       "  </thead>\n",
       "  <tbody>\n",
       "    <tr>\n",
       "      <th>1</th>\n",
       "      <td>0</td>\n",
       "      <td>0</td>\n",
       "      <td>0</td>\n",
       "      <td>0</td>\n",
       "      <td>0</td>\n",
       "      <td>0</td>\n",
       "      <td>0</td>\n",
       "      <td>0</td>\n",
       "      <td>0</td>\n",
       "      <td>0</td>\n",
       "      <td>...</td>\n",
       "      <td>0</td>\n",
       "      <td>0</td>\n",
       "      <td>1</td>\n",
       "      <td>0</td>\n",
       "      <td>1</td>\n",
       "      <td>0</td>\n",
       "      <td>0</td>\n",
       "      <td>0</td>\n",
       "      <td>0</td>\n",
       "      <td>0</td>\n",
       "    </tr>\n",
       "    <tr>\n",
       "      <th>2</th>\n",
       "      <td>0</td>\n",
       "      <td>0</td>\n",
       "      <td>0</td>\n",
       "      <td>0</td>\n",
       "      <td>0</td>\n",
       "      <td>0</td>\n",
       "      <td>0</td>\n",
       "      <td>0</td>\n",
       "      <td>0</td>\n",
       "      <td>0</td>\n",
       "      <td>...</td>\n",
       "      <td>0</td>\n",
       "      <td>0</td>\n",
       "      <td>0</td>\n",
       "      <td>0</td>\n",
       "      <td>0</td>\n",
       "      <td>0</td>\n",
       "      <td>0</td>\n",
       "      <td>0</td>\n",
       "      <td>0</td>\n",
       "      <td>0</td>\n",
       "    </tr>\n",
       "    <tr>\n",
       "      <th>3</th>\n",
       "      <td>0</td>\n",
       "      <td>0</td>\n",
       "      <td>0</td>\n",
       "      <td>0</td>\n",
       "      <td>0</td>\n",
       "      <td>1</td>\n",
       "      <td>0</td>\n",
       "      <td>0</td>\n",
       "      <td>0</td>\n",
       "      <td>0</td>\n",
       "      <td>...</td>\n",
       "      <td>0</td>\n",
       "      <td>0</td>\n",
       "      <td>1</td>\n",
       "      <td>0</td>\n",
       "      <td>0</td>\n",
       "      <td>0</td>\n",
       "      <td>0</td>\n",
       "      <td>0</td>\n",
       "      <td>0</td>\n",
       "      <td>0</td>\n",
       "    </tr>\n",
       "    <tr>\n",
       "      <th>4</th>\n",
       "      <td>0</td>\n",
       "      <td>0</td>\n",
       "      <td>0</td>\n",
       "      <td>0</td>\n",
       "      <td>0</td>\n",
       "      <td>0</td>\n",
       "      <td>0</td>\n",
       "      <td>0</td>\n",
       "      <td>0</td>\n",
       "      <td>0</td>\n",
       "      <td>...</td>\n",
       "      <td>0</td>\n",
       "      <td>0</td>\n",
       "      <td>0</td>\n",
       "      <td>0</td>\n",
       "      <td>0</td>\n",
       "      <td>0</td>\n",
       "      <td>0</td>\n",
       "      <td>0</td>\n",
       "      <td>0</td>\n",
       "      <td>0</td>\n",
       "    </tr>\n",
       "    <tr>\n",
       "      <th>5</th>\n",
       "      <td>0</td>\n",
       "      <td>0</td>\n",
       "      <td>0</td>\n",
       "      <td>0</td>\n",
       "      <td>0</td>\n",
       "      <td>0</td>\n",
       "      <td>0</td>\n",
       "      <td>0</td>\n",
       "      <td>0</td>\n",
       "      <td>0</td>\n",
       "      <td>...</td>\n",
       "      <td>0</td>\n",
       "      <td>0</td>\n",
       "      <td>0</td>\n",
       "      <td>0</td>\n",
       "      <td>0</td>\n",
       "      <td>0</td>\n",
       "      <td>0</td>\n",
       "      <td>0</td>\n",
       "      <td>0</td>\n",
       "      <td>0</td>\n",
       "    </tr>\n",
       "  </tbody>\n",
       "</table>\n",
       "<p>5 rows × 714 columns</p>\n",
       "</div>"
      ],
      "text/plain": [
       "article_id  0     2     4     8     9     12    14    15    16    18    ...  \\\n",
       "user_id                                                                 ...   \n",
       "1              0     0     0     0     0     0     0     0     0     0  ...   \n",
       "2              0     0     0     0     0     0     0     0     0     0  ...   \n",
       "3              0     0     0     0     0     1     0     0     0     0  ...   \n",
       "4              0     0     0     0     0     0     0     0     0     0  ...   \n",
       "5              0     0     0     0     0     0     0     0     0     0  ...   \n",
       "\n",
       "article_id  1434  1435  1436  1437  1439  1440  1441  1442  1443  1444  \n",
       "user_id                                                                 \n",
       "1              0     0     1     0     1     0     0     0     0     0  \n",
       "2              0     0     0     0     0     0     0     0     0     0  \n",
       "3              0     0     1     0     0     0     0     0     0     0  \n",
       "4              0     0     0     0     0     0     0     0     0     0  \n",
       "5              0     0     0     0     0     0     0     0     0     0  \n",
       "\n",
       "[5 rows x 714 columns]"
      ]
     },
     "execution_count": 39,
     "metadata": {},
     "output_type": "execute_result"
    }
   ],
   "source": [
    "user_item.head()\n"
   ]
  },
  {
   "attachments": {},
   "cell_type": "markdown",
   "metadata": {},
   "source": [
    "`2.` In this situation, you can use Singular Value Decomposition from [numpy](https://docs.scipy.org/doc/numpy-1.14.0/reference/generated/numpy.linalg.svd.html) on the user-item matrix. Use the cell to perform SVD, and explain why this is different than in the lesson.\n"
   ]
  },
  {
   "cell_type": "code",
   "execution_count": 40,
   "metadata": {
    "collapsed": true
   },
   "outputs": [],
   "source": [
    "u, s, vt = np.linalg.svd(user_item)\n"
   ]
  },
  {
   "attachments": {},
   "cell_type": "markdown",
   "metadata": {},
   "source": [
    "In the lessons we also used FunkSVD, which accepts missing values. In our case this isn't necessary.\n"
   ]
  },
  {
   "attachments": {},
   "cell_type": "markdown",
   "metadata": {},
   "source": [
    "`3.` Now for the tricky part, how do we choose the number of latent features to use? Running the below cell, you can see that as the number of latent features increases, we obtain a lower error rate on making predictions for the 1 and 0 values in the user-item matrix. Run the cell below to get an idea of how the accuracy improves as we increase the number of latent features.\n"
   ]
  },
  {
   "cell_type": "code",
   "execution_count": 41,
   "metadata": {
    "collapsed": true
   },
   "outputs": [
    {
     "data": {
      "text/plain": [
       "Text(0.5, 1.0, 'Accuracy vs. Number of Latent Features')"
      ]
     },
     "execution_count": 41,
     "metadata": {},
     "output_type": "execute_result"
    },
    {
     "data": {
      "image/png": "[encoded data removed]",
      "text/plain": [
       "<Figure size 640x480 with 1 Axes>"
      ]
     },
     "metadata": {},
     "output_type": "display_data"
    }
   ],
   "source": [
    "num_latent_feats = np.arange(10, 700 + 10, 20)\n",
    "sum_errs = []\n",
    "\n",
    "for k in num_latent_feats:\n",
    "    # restructure with k latent features\n",
    "    s_new, u_new, vt_new = np.diag(s[:k]), u[:, :k], vt[:k, :]\n",
    "\n",
    "    # take dot product\n",
    "    user_item_est = np.around(np.dot(np.dot(u_new, s_new), vt_new))\n",
    "\n",
    "    # compute error for each prediction to actual value\n",
    "    diffs = np.subtract(user_item, user_item_est)\n",
    "\n",
    "    # total errors and keep track of them\n",
    "    err = np.sum(np.sum(np.abs(diffs)))\n",
    "    sum_errs.append(err)\n",
    "\n",
    "\n",
    "plt.plot(num_latent_feats, 1 - np.array(sum_errs) / df.shape[0])\n",
    "plt.xlabel(\"Number of Latent Features\")\n",
    "plt.ylabel(\"Accuracy\")\n",
    "plt.title(\"Accuracy vs. Number of Latent Features\")\n"
   ]
  },
  {
   "attachments": {},
   "cell_type": "markdown",
   "metadata": {},
   "source": [
    "`4.` From the above, we can't really be sure how many features to use, because simply having a better way to predict the 1's and 0's of the matrix doesn't exactly give us an indication of if we are able to make good recommendations. Instead, we might split our dataset into a training and test set of data, as shown in the cell below.\n",
    "\n",
    "Use the code from question 3 to understand the impact on accuracy of the training and test sets of data with different numbers of latent features. Using the split below:\n",
    "\n",
    "- How many users can we make predictions for in the test set?\n",
    "- How many users are we not able to make predictions for because of the cold start problem?\n",
    "- How many articles can we make predictions for in the test set?\n",
    "- How many articles are we not able to make predictions for because of the cold start problem?\n"
   ]
  },
  {
   "cell_type": "code",
   "execution_count": 42,
   "metadata": {},
   "outputs": [],
   "source": [
    "df_train = df.head(40000)\n",
    "df_test = df.tail(5993)\n"
   ]
  },
  {
   "cell_type": "code",
   "execution_count": 43,
   "metadata": {
    "collapsed": true
   },
   "outputs": [],
   "source": [
    "def create_test_and_train_user_item(\n",
    "    df_train: pd.DataFrame, df_test: pd.DataFrame, user_item: pd.DataFrame\n",
    ") -> Tuple[pd.DataFrame, pd.DataFrame, Iterable[int], Iterable[int]]:\n",
    "    \"\"\"Split user_item matrix into train and test matrices. Also return test user IDs\n",
    "        and article IDs.\n",
    "\n",
    "    Args:\n",
    "        df_train: raining dataframe\n",
    "        df_test: test dataframe\n",
    "        user_item: Matrix of users by articles: 1's when a user has interacted with an\n",
    "            article, 0 otherwise\n",
    "\n",
    "    Returns:\n",
    "        A user-item matrix of the training dataframe (unique users for each row and\n",
    "            unique articles for each column)\n",
    "        A user-item matrix of the testing dataframe (unique users for each row and\n",
    "            unique articles for each column)\n",
    "        All of the test user ids\n",
    "        All of the test article ids\n",
    "    \"\"\"\n",
    "    # 1. Get train and test users and articles\n",
    "    train_users, train_articles = (\n",
    "        df_train[\"user_id\"].drop_duplicates().tolist(),\n",
    "        df_train[\"article_id\"].drop_duplicates().tolist(),\n",
    "    )\n",
    "    test_users, test_articles = (\n",
    "        df_test[\"user_id\"].drop_duplicates().tolist(),\n",
    "        df_test[\"article_id\"].drop_duplicates().tolist(),\n",
    "    )\n",
    "\n",
    "    # 2. Split user_item matrix\n",
    "    user_item_train = user_item.loc[train_users, train_articles]\n",
    "    user_item_test = user_item.loc[test_users, test_articles]\n",
    "\n",
    "    return user_item_train, user_item_test\n"
   ]
  },
  {
   "cell_type": "code",
   "execution_count": 44,
   "metadata": {},
   "outputs": [],
   "source": [
    "user_item_train, user_item_test = create_test_and_train_user_item(\n",
    "    df_train, df_test, user_item\n",
    ")\n"
   ]
  },
  {
   "cell_type": "code",
   "execution_count": 45,
   "metadata": {
    "collapsed": true
   },
   "outputs": [
    {
     "name": "stdout",
     "output_type": "stream",
     "text": [
      "Awesome job!  That's right!  All of the test articles are in the training data, but there are only 20 test users that were also in the training set.  All of the other users that are in the test set we have no data on.  Therefore, we cannot make predictions for these users using SVD.\n"
     ]
    }
   ],
   "source": [
    "# Replace the values in the dictionary below\n",
    "a = 662  # len(user_item_test.index.difference(user_item_train.index))\n",
    "b = 574  # user_item_test.shape[1]\n",
    "c = 20  # len(user_item_test.index.intersection(user_item_train.index))\n",
    "d = 0\n",
    "\n",
    "\n",
    "sol_4_dict = {\n",
    "    \"How many users can we make predictions for in the test set?\": c,\n",
    "    \"How many users in the test set are we not able to make predictions for because of the cold start problem?\": a,\n",
    "    \"How many articles can we make predictions for in the test set?\": b,\n",
    "    \"How many articles in the test set are we not able to make predictions for because of the cold start problem?\": d,\n",
    "}\n",
    "\n",
    "t.sol_4_test(sol_4_dict)\n"
   ]
  },
  {
   "attachments": {},
   "cell_type": "markdown",
   "metadata": {},
   "source": [
    "`5.` Now use the **user_item_train** dataset from above to find U, S, and V transpose using SVD. Then find the subset of rows in the **user_item_test** dataset that you can predict using this matrix decomposition with different numbers of latent features to see how many features makes sense to keep based on the accuracy on the test data. This will require combining what was done in questions `2` - `4`.\n",
    "\n",
    "Use the cells below to explore how well SVD works towards making predictions for recommendations on the test data.\n"
   ]
  },
  {
   "cell_type": "code",
   "execution_count": 46,
   "metadata": {
    "collapsed": true
   },
   "outputs": [],
   "source": [
    "u_train, s_train, vt_train = np.linalg.svd(user_item_train)\n"
   ]
  },
  {
   "cell_type": "code",
   "execution_count": 47,
   "metadata": {},
   "outputs": [],
   "source": [
    "common_users = user_item_train.index.intersection(user_item_test.index)\n",
    "common_articles = user_item_train.columns.intersection(user_item_test.columns)\n",
    "common_users_train_idx = user_item_train.index.isin(common_users)\n",
    "common_articles_train_idx = user_item_train.columns.isin(common_articles)\n"
   ]
  },
  {
   "cell_type": "code",
   "execution_count": 48,
   "metadata": {},
   "outputs": [],
   "source": [
    "user_item_test_preds = user_item_test.loc[common_users, common_articles]\n"
   ]
  },
  {
   "cell_type": "code",
   "execution_count": 49,
   "metadata": {
    "collapsed": true
   },
   "outputs": [
    {
     "data": {
      "text/plain": [
       "Text(0.5, 1.0, 'Accuracy vs. Number of Latent Features')"
      ]
     },
     "execution_count": 49,
     "metadata": {},
     "output_type": "execute_result"
    },
    {
     "data": {
      "image/png": "[encoded data removed]",
      "text/plain": [
       "<Figure size 640x480 with 1 Axes>"
      ]
     },
     "metadata": {},
     "output_type": "display_data"
    }
   ],
   "source": [
    "num_latent_feats = np.arange(10, 700 + 10, 20)\n",
    "sum_errs = []\n",
    "\n",
    "for k in num_latent_feats:\n",
    "    # restructure with k latent features\n",
    "    s_new, u_new, vt_new = np.diag(s_train[:k]), u_train[:, :k], vt_train[:k, :]\n",
    "\n",
    "    # take dot product\n",
    "    user_item_est = np.around(np.dot(np.dot(u_new, s_new), vt_new))[\n",
    "        np.ix_(common_users_train_idx, common_articles_train_idx)\n",
    "    ]\n",
    "\n",
    "    # compute error for each prediction to actual value\n",
    "    diffs = np.subtract(\n",
    "        user_item_test_preds,\n",
    "        user_item_est,\n",
    "    )\n",
    "\n",
    "    # total errors and keep track of them\n",
    "    err = np.sum(np.sum(np.abs(diffs)))\n",
    "    sum_errs.append(err)\n",
    "\n",
    "plt.plot(num_latent_feats, 1 - np.array(sum_errs) / user_item_test_preds.shape[0])\n",
    "plt.xlabel(\"Number of Latent Features\")\n",
    "plt.ylabel(\"Accuracy\")\n",
    "plt.title(\"Accuracy vs. Number of Latent Features\")\n"
   ]
  },
  {
   "attachments": {},
   "cell_type": "markdown",
   "metadata": {
    "collapsed": true
   },
   "source": [
    "`6.` Use the cell below to comment on the results you found in the previous question. Given the circumstances of your results, discuss what you might do to determine if the recommendations you make with any of the above recommendation systems are an improvement to how users currently find articles?\n"
   ]
  },
  {
   "attachments": {},
   "cell_type": "markdown",
   "metadata": {},
   "source": [
    "In order to test whether a recommendation system works well in practice, I would use A/B testing. Groups of users could be randomly divided upon entering the IBM Watson Studio platform, each of them receiving recommendations from different recommendation systems (e.g. rank-based vs matrix factorization). After selecting the relevant metrics that IBM is interested in tracking (e.g. ratio of articles viewed per user), one can evaluate whether matrix factorization is a superior recommendation engine based on statistical and practical significance.\n"
   ]
  },
  {
   "cell_type": "code",
   "execution_count": 50,
   "metadata": {
    "collapsed": true
   },
   "outputs": [
    {
     "name": "stderr",
     "output_type": "stream",
     "text": [
      "[NbConvertApp] Converting notebook Recommendations_with_IBM.ipynb to html\n",
      "[NbConvertApp] Writing 806815 bytes to Recommendations_with_IBM.html\n"
     ]
    },
    {
     "data": {
      "text/plain": [
       "0"
      ]
     },
     "execution_count": 50,
     "metadata": {},
     "output_type": "execute_result"
    }
   ],
   "source": [
    "call([\"python\", \"-m\", \"nbconvert\", \"Recommendations_with_IBM.ipynb\", \"--to\", \"html\"])\n"
   ]
  }
 ],
 "metadata": {
  "kernelspec": {
   "display_name": "ibm_recommender",
   "language": "python",
   "name": "python3"
  },
  "language_info": {
   "codemirror_mode": {
    "name": "ipython",
    "version": 3
   },
   "file_extension": ".py",
   "mimetype": "text/x-python",
   "name": "python",
   "nbconvert_exporter": "python",
   "pygments_lexer": "ipython3",
   "version": "3.11.0"
  },
  "vscode": {
   "interpreter": {
    "hash": "a8453320a7b800e8c6308a1d168fe7653b5c1c5292a0e1a43f95b66d977a4e8c"
   }
  }
 },
 "nbformat": 4,
 "nbformat_minor": 2
}
